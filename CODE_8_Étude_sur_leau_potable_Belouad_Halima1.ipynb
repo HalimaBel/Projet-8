{
 "cells": [
  {
   "cell_type": "markdown",
   "id": "e3905abb",
   "metadata": {},
   "source": [
    "# Projet 8:  Étude sur l'eau potable partie 1 \n",
    "\n",
    "### 1 Importation des packages"
   ]
  },
  {
   "cell_type": "code",
   "execution_count": 1,
   "id": "dcc2b1f7",
   "metadata": {},
   "outputs": [],
   "source": [
    "import pandas as pd\n",
    "import numpy as np\n",
    "from datetime import datetime \n",
    "import scipy.stats as st\n",
    "import warnings\n",
    "warnings.filterwarnings(\"ignore\")"
   ]
  },
  {
   "cell_type": "markdown",
   "id": "88c5e425",
   "metadata": {},
   "source": [
    "### 2 Imporattion des fichiers csv"
   ]
  },
  {
   "cell_type": "code",
   "execution_count": 2,
   "id": "69611ae0",
   "metadata": {},
   "outputs": [],
   "source": [
    "region = pd.read_csv('RegionCountry.csv')\n",
    "population = pd.read_csv('Population.csv')\n",
    "politicals = pd.read_csv('PoliticalStability.csv')\n",
    "mortality = pd.read_csv('MortalityRateAttributedToWater.csv')\n",
    "waterservice = pd.read_csv('BasicAndSafelyManagedDrinkingWaterServices.csv')"
   ]
  },
  {
   "cell_type": "markdown",
   "id": "72442564",
   "metadata": {},
   "source": [
    "### 3 Exploration des fichiers csv"
   ]
  },
  {
   "cell_type": "markdown",
   "id": "31ef9b6d",
   "metadata": {},
   "source": [
    "### 3.1 Région"
   ]
  },
  {
   "cell_type": "code",
   "execution_count": 3,
   "id": "674dee93",
   "metadata": {},
   "outputs": [
    {
     "data": {
      "text/html": [
       "<div>\n",
       "<style scoped>\n",
       "    .dataframe tbody tr th:only-of-type {\n",
       "        vertical-align: middle;\n",
       "    }\n",
       "\n",
       "    .dataframe tbody tr th {\n",
       "        vertical-align: top;\n",
       "    }\n",
       "\n",
       "    .dataframe thead th {\n",
       "        text-align: right;\n",
       "    }\n",
       "</style>\n",
       "<table border=\"1\" class=\"dataframe\">\n",
       "  <thead>\n",
       "    <tr style=\"text-align: right;\">\n",
       "      <th></th>\n",
       "      <th>REGION (DISPLAY)</th>\n",
       "      <th>COUNTRY (DISPLAY)</th>\n",
       "    </tr>\n",
       "  </thead>\n",
       "  <tbody>\n",
       "    <tr>\n",
       "      <th>0</th>\n",
       "      <td>Europe</td>\n",
       "      <td>Albania</td>\n",
       "    </tr>\n",
       "    <tr>\n",
       "      <th>1</th>\n",
       "      <td>Europe</td>\n",
       "      <td>Andorra</td>\n",
       "    </tr>\n",
       "    <tr>\n",
       "      <th>2</th>\n",
       "      <td>Europe</td>\n",
       "      <td>Armenia</td>\n",
       "    </tr>\n",
       "    <tr>\n",
       "      <th>3</th>\n",
       "      <td>Western Pacific</td>\n",
       "      <td>Australia</td>\n",
       "    </tr>\n",
       "    <tr>\n",
       "      <th>4</th>\n",
       "      <td>Europe</td>\n",
       "      <td>Austria</td>\n",
       "    </tr>\n",
       "  </tbody>\n",
       "</table>\n",
       "</div>"
      ],
      "text/plain": [
       "  REGION (DISPLAY) COUNTRY (DISPLAY)\n",
       "0           Europe           Albania\n",
       "1           Europe           Andorra\n",
       "2           Europe           Armenia\n",
       "3  Western Pacific         Australia\n",
       "4           Europe           Austria"
      ]
     },
     "execution_count": 3,
     "metadata": {},
     "output_type": "execute_result"
    }
   ],
   "source": [
    "region.head()"
   ]
  },
  {
   "cell_type": "code",
   "execution_count": 4,
   "id": "8ce456f4",
   "metadata": {},
   "outputs": [
    {
     "name": "stdout",
     "output_type": "stream",
     "text": [
      "<class 'pandas.core.frame.DataFrame'>\n",
      "RangeIndex: 194 entries, 0 to 193\n",
      "Data columns (total 2 columns):\n",
      " #   Column             Non-Null Count  Dtype \n",
      "---  ------             --------------  ----- \n",
      " 0   REGION (DISPLAY)   194 non-null    object\n",
      " 1   COUNTRY (DISPLAY)  194 non-null    object\n",
      "dtypes: object(2)\n",
      "memory usage: 3.2+ KB\n"
     ]
    }
   ],
   "source": [
    "region.info()"
   ]
  },
  {
   "cell_type": "code",
   "execution_count": 5,
   "id": "4f55e6b8",
   "metadata": {},
   "outputs": [
    {
     "data": {
      "text/plain": [
       "REGION (DISPLAY)     0\n",
       "COUNTRY (DISPLAY)    0\n",
       "dtype: int64"
      ]
     },
     "execution_count": 5,
     "metadata": {},
     "output_type": "execute_result"
    }
   ],
   "source": [
    "region.isna().sum()"
   ]
  },
  {
   "cell_type": "code",
   "execution_count": 6,
   "id": "4a8f3d59",
   "metadata": {},
   "outputs": [
    {
     "data": {
      "text/plain": [
       "0"
      ]
     },
     "execution_count": 6,
     "metadata": {},
     "output_type": "execute_result"
    }
   ],
   "source": [
    "region.duplicated().sum()"
   ]
  },
  {
   "cell_type": "code",
   "execution_count": 7,
   "id": "f20ce8fc",
   "metadata": {},
   "outputs": [
    {
     "data": {
      "text/plain": [
       "6"
      ]
     },
     "execution_count": 7,
     "metadata": {},
     "output_type": "execute_result"
    }
   ],
   "source": [
    "region['REGION (DISPLAY)'].nunique()"
   ]
  },
  {
   "cell_type": "code",
   "execution_count": 8,
   "id": "779a5758",
   "metadata": {},
   "outputs": [
    {
     "data": {
      "text/plain": [
       "194"
      ]
     },
     "execution_count": 8,
     "metadata": {},
     "output_type": "execute_result"
    }
   ],
   "source": [
    "region['COUNTRY (DISPLAY)'].nunique()"
   ]
  },
  {
   "cell_type": "code",
   "execution_count": 9,
   "id": "78833c3c",
   "metadata": {},
   "outputs": [],
   "source": [
    "region.rename(columns={'REGION (DISPLAY)': 'Region', 'COUNTRY (DISPLAY)': 'Country'}, inplace=True)"
   ]
  },
  {
   "cell_type": "code",
   "execution_count": 10,
   "id": "befbed71",
   "metadata": {},
   "outputs": [
    {
     "data": {
      "text/plain": [
       "array(['Europe', 'Western Pacific', 'Eastern Mediterranean',\n",
       "       'South-East Asia', 'Africa', 'Americas'], dtype=object)"
      ]
     },
     "execution_count": 10,
     "metadata": {},
     "output_type": "execute_result"
    }
   ],
   "source": [
    "region['Region'].unique()"
   ]
  },
  {
   "cell_type": "code",
   "execution_count": 11,
   "id": "bf31514c",
   "metadata": {},
   "outputs": [
    {
     "name": "stdout",
     "output_type": "stream",
     "text": [
      "15                             Algeria\n",
      "16                              Angola\n",
      "17                               Benin\n",
      "0                             Botswana\n",
      "18                        Burkina Faso\n",
      "19                             Burundi\n",
      "20                          Cabo Verde\n",
      "21                            Cameroon\n",
      "22            Central African Republic\n",
      "23                                Chad\n",
      "24                             Comoros\n",
      "1                                Congo\n",
      "2                        Côte d'Ivoire\n",
      "25    Democratic Republic of the Congo\n",
      "26                   Equatorial Guinea\n",
      "27                             Eritrea\n",
      "3                             Eswatini\n",
      "4                             Ethiopia\n",
      "28                               Gabon\n",
      "5                               Gambia\n",
      "6                                Ghana\n",
      "29                              Guinea\n",
      "30                       Guinea-Bissau\n",
      "7                                Kenya\n",
      "31                             Lesotho\n",
      "32                             Liberia\n",
      "33                          Madagascar\n",
      "34                              Malawi\n",
      "35                                Mali\n",
      "36                          Mauritania\n",
      "37                           Mauritius\n",
      "38                          Mozambique\n",
      "39                             Namibia\n",
      "40                               Niger\n",
      "8                              Nigeria\n",
      "9                               Rwanda\n",
      "41               Sao Tome and Principe\n",
      "42                             Senegal\n",
      "43                          Seychelles\n",
      "10                        Sierra Leone\n",
      "11                        South Africa\n",
      "44                         South Sudan\n",
      "45                                Togo\n",
      "12                              Uganda\n",
      "13         United Republic of Tanzania\n",
      "14                              Zambia\n",
      "46                            Zimbabwe\n",
      "Name: Country, dtype: object\n"
     ]
    }
   ],
   "source": [
    "pays_Africa = region[region['Region'] == 'Africa']['Country']\n",
    "pays_Africa_sorted = pays_Africa.reset_index(drop=True).sort_values(ascending=True)\n",
    "print(pays_Africa_sorted)"
   ]
  },
  {
   "cell_type": "code",
   "execution_count": 12,
   "id": "8cfa96b2",
   "metadata": {},
   "outputs": [
    {
     "data": {
      "text/plain": [
       "47"
      ]
     },
     "execution_count": 12,
     "metadata": {},
     "output_type": "execute_result"
    }
   ],
   "source": [
    "pays_Africa.count()"
   ]
  },
  {
   "cell_type": "code",
   "execution_count": 13,
   "id": "260be3bc",
   "metadata": {},
   "outputs": [
    {
     "name": "stdout",
     "output_type": "stream",
     "text": [
      "0                                               Albania\n",
      "1                                               Andorra\n",
      "2                                               Armenia\n",
      "3                                               Austria\n",
      "4                                            Azerbaijan\n",
      "5                                               Belarus\n",
      "6                                               Belgium\n",
      "7                                Bosnia and Herzegovina\n",
      "8                                              Bulgaria\n",
      "9                                               Croatia\n",
      "10                                               Cyprus\n",
      "11                                              Czechia\n",
      "12                                              Denmark\n",
      "13                                              Estonia\n",
      "14                                              Finland\n",
      "15                                               France\n",
      "16                                              Georgia\n",
      "17                                              Germany\n",
      "18                                               Greece\n",
      "19                                              Hungary\n",
      "20                                              Iceland\n",
      "21                                              Ireland\n",
      "22                                               Israel\n",
      "23                                                Italy\n",
      "24                                           Kazakhstan\n",
      "25                                           Kyrgyzstan\n",
      "26                                               Latvia\n",
      "27                                            Lithuania\n",
      "28                                           Luxembourg\n",
      "29                                                Malta\n",
      "30                                               Monaco\n",
      "31                                           Montenegro\n",
      "32                                          Netherlands\n",
      "34                                               Norway\n",
      "35                                               Poland\n",
      "36                                             Portugal\n",
      "37                                  Republic of Moldova\n",
      "33                          Republic of North Macedonia\n",
      "38                                              Romania\n",
      "39                                   Russian Federation\n",
      "40                                           San Marino\n",
      "41                                               Serbia\n",
      "42                                             Slovakia\n",
      "43                                             Slovenia\n",
      "44                                                Spain\n",
      "45                                               Sweden\n",
      "46                                          Switzerland\n",
      "47                                           Tajikistan\n",
      "52                                               Turkey\n",
      "48                                         Turkmenistan\n",
      "49                                              Ukraine\n",
      "50    United Kingdom of Great Britain and Northern I...\n",
      "51                                           Uzbekistan\n",
      "Name: Country, dtype: object\n"
     ]
    }
   ],
   "source": [
    "pays_Europe = region[region['Region'] == 'Europe']['Country']\n",
    "pays_Europe_sorted = pays_Europe.reset_index(drop=True).sort_values(ascending=True)\n",
    "print(pays_Europe_sorted)"
   ]
  },
  {
   "cell_type": "code",
   "execution_count": 14,
   "id": "523e5d80",
   "metadata": {},
   "outputs": [
    {
     "data": {
      "text/plain": [
       "53"
      ]
     },
     "execution_count": 14,
     "metadata": {},
     "output_type": "execute_result"
    }
   ],
   "source": [
    "pays_Europe.count()"
   ]
  },
  {
   "cell_type": "code",
   "execution_count": 15,
   "id": "1ab797aa",
   "metadata": {},
   "outputs": [
    {
     "name": "stdout",
     "output_type": "stream",
     "text": [
      "11                   Afghanistan\n",
      "0                        Bahrain\n",
      "12                      Djibouti\n",
      "13                         Egypt\n",
      "1     Iran (Islamic Republic of)\n",
      "2                           Iraq\n",
      "3                         Jordan\n",
      "4                         Kuwait\n",
      "5                        Lebanon\n",
      "14                         Libya\n",
      "6                        Morocco\n",
      "7                           Oman\n",
      "8                       Pakistan\n",
      "9                          Qatar\n",
      "15                  Saudi Arabia\n",
      "16                       Somalia\n",
      "17                         Sudan\n",
      "18          Syrian Arab Republic\n",
      "10                       Tunisia\n",
      "19          United Arab Emirates\n",
      "20                         Yemen\n",
      "Name: Country, dtype: object\n"
     ]
    }
   ],
   "source": [
    "pays_Eastern = region[region['Region'] == 'Eastern Mediterranean']['Country']\n",
    "pays_Eastern_sorted = pays_Eastern.reset_index(drop=True).sort_values(ascending=True)\n",
    "print(pays_Eastern_sorted)"
   ]
  },
  {
   "cell_type": "code",
   "execution_count": 16,
   "id": "c1b01480",
   "metadata": {},
   "outputs": [
    {
     "data": {
      "text/plain": [
       "21"
      ]
     },
     "execution_count": 16,
     "metadata": {},
     "output_type": "execute_result"
    }
   ],
   "source": [
    "pays_Eastern.count()"
   ]
  },
  {
   "cell_type": "code",
   "execution_count": 17,
   "id": "01a969b7",
   "metadata": {},
   "outputs": [
    {
     "name": "stdout",
     "output_type": "stream",
     "text": [
      "16                   Antigua and Barbuda\n",
      "17                             Argentina\n",
      "18                               Bahamas\n",
      "19                              Barbados\n",
      "20                                Belize\n",
      "21      Bolivia (Plurinational State of)\n",
      "0                                 Brazil\n",
      "1                                 Canada\n",
      "2                                  Chile\n",
      "3                               Colombia\n",
      "4                             Costa Rica\n",
      "22                                  Cuba\n",
      "23                              Dominica\n",
      "24                    Dominican Republic\n",
      "5                                Ecuador\n",
      "6                            El Salvador\n",
      "7                                Grenada\n",
      "8                              Guatemala\n",
      "25                                Guyana\n",
      "26                                 Haiti\n",
      "9                               Honduras\n",
      "27                               Jamaica\n",
      "10                                Mexico\n",
      "11                             Nicaragua\n",
      "28                                Panama\n",
      "12                              Paraguay\n",
      "13                                  Peru\n",
      "29                 Saint Kitts and Nevis\n",
      "30                           Saint Lucia\n",
      "31      Saint Vincent and the Grenadines\n",
      "32                              Suriname\n",
      "33                   Trinidad and Tobago\n",
      "14              United States of America\n",
      "15                               Uruguay\n",
      "34    Venezuela (Bolivarian Republic of)\n",
      "Name: Country, dtype: object\n"
     ]
    }
   ],
   "source": [
    "pays_Americas = region[region['Region'] == 'Americas']['Country']\n",
    "pays_Americas_sorted = pays_Americas.reset_index(drop=True).sort_values(ascending=True)\n",
    "print(pays_Americas_sorted)"
   ]
  },
  {
   "cell_type": "code",
   "execution_count": 18,
   "id": "9f588559",
   "metadata": {},
   "outputs": [
    {
     "data": {
      "text/plain": [
       "35"
      ]
     },
     "execution_count": 18,
     "metadata": {},
     "output_type": "execute_result"
    }
   ],
   "source": [
    "pays_Americas.count()"
   ]
  },
  {
   "cell_type": "code",
   "execution_count": 19,
   "id": "13e75589",
   "metadata": {},
   "outputs": [
    {
     "name": "stdout",
     "output_type": "stream",
     "text": [
      "0                            Australia\n",
      "15                   Brunei Darussalam\n",
      "1                             Cambodia\n",
      "2                                China\n",
      "16                        Cook Islands\n",
      "17                                Fiji\n",
      "3                                Japan\n",
      "18                            Kiribati\n",
      "4     Lao People's Democratic Republic\n",
      "5                             Malaysia\n",
      "19                    Marshall Islands\n",
      "20    Micronesia (Federated States of)\n",
      "6                             Mongolia\n",
      "21                               Nauru\n",
      "7                          New Zealand\n",
      "8                                 Niue\n",
      "22                               Palau\n",
      "23                    Papua New Guinea\n",
      "9                          Philippines\n",
      "10                   Republic of Korea\n",
      "11                               Samoa\n",
      "12                           Singapore\n",
      "24                     Solomon Islands\n",
      "25                               Tonga\n",
      "13                              Tuvalu\n",
      "14                             Vanuatu\n",
      "26                            Viet Nam\n",
      "Name: Country, dtype: object\n"
     ]
    }
   ],
   "source": [
    "pays_Western_Pacific = region[region['Region'] == 'Western Pacific']['Country']\n",
    "pays_Western_Pacific_sorted = pays_Western_Pacific.reset_index(drop=True).sort_values(ascending=True)\n",
    "print(pays_Western_Pacific_sorted)"
   ]
  },
  {
   "cell_type": "code",
   "execution_count": 20,
   "id": "3cca8375",
   "metadata": {},
   "outputs": [
    {
     "data": {
      "text/plain": [
       "27"
      ]
     },
     "execution_count": 20,
     "metadata": {},
     "output_type": "execute_result"
    }
   ],
   "source": [
    "pays_Western_Pacific.count()"
   ]
  },
  {
   "cell_type": "code",
   "execution_count": 21,
   "id": "733c58fc",
   "metadata": {},
   "outputs": [
    {
     "name": "stdout",
     "output_type": "stream",
     "text": [
      "0                                Bangladesh\n",
      "1                                    Bhutan\n",
      "2     Democratic People's Republic of Korea\n",
      "3                                     India\n",
      "6                                 Indonesia\n",
      "7                                  Maldives\n",
      "8                                   Myanmar\n",
      "4                                     Nepal\n",
      "5                                 Sri Lanka\n",
      "9                                  Thailand\n",
      "10                              Timor-Leste\n",
      "Name: Country, dtype: object\n"
     ]
    }
   ],
   "source": [
    "pays_Asia = region[region['Region'] == 'South-East Asia']['Country']\n",
    "pays_Asia_sorted = pays_Asia.reset_index(drop=True).sort_values(ascending=True)\n",
    "print(pays_Asia_sorted)"
   ]
  },
  {
   "cell_type": "code",
   "execution_count": 22,
   "id": "71a0cfa4",
   "metadata": {},
   "outputs": [
    {
     "data": {
      "text/plain": [
       "11"
      ]
     },
     "execution_count": 22,
     "metadata": {},
     "output_type": "execute_result"
    }
   ],
   "source": [
    "pays_Asia.count()"
   ]
  },
  {
   "cell_type": "markdown",
   "id": "d983a120",
   "metadata": {},
   "source": [
    "#### Vérification en amont sur le site de l'OMS si les pays sont bien afféctés aux régions définies par celle ci. Aucune anomalie n'a été detectée.  Toutefois, certains pays sont manquants de notre liste."
   ]
  },
  {
   "cell_type": "markdown",
   "id": "288fb1d6",
   "metadata": {},
   "source": [
    "### 3.2 Population"
   ]
  },
  {
   "cell_type": "code",
   "execution_count": 23,
   "id": "9c7a3075",
   "metadata": {},
   "outputs": [
    {
     "data": {
      "text/html": [
       "<div>\n",
       "<style scoped>\n",
       "    .dataframe tbody tr th:only-of-type {\n",
       "        vertical-align: middle;\n",
       "    }\n",
       "\n",
       "    .dataframe tbody tr th {\n",
       "        vertical-align: top;\n",
       "    }\n",
       "\n",
       "    .dataframe thead th {\n",
       "        text-align: right;\n",
       "    }\n",
       "</style>\n",
       "<table border=\"1\" class=\"dataframe\">\n",
       "  <thead>\n",
       "    <tr style=\"text-align: right;\">\n",
       "      <th></th>\n",
       "      <th>Country</th>\n",
       "      <th>Granularity</th>\n",
       "      <th>Year</th>\n",
       "      <th>Population</th>\n",
       "    </tr>\n",
       "  </thead>\n",
       "  <tbody>\n",
       "    <tr>\n",
       "      <th>0</th>\n",
       "      <td>Afghanistan</td>\n",
       "      <td>Total</td>\n",
       "      <td>2000</td>\n",
       "      <td>20779.953</td>\n",
       "    </tr>\n",
       "    <tr>\n",
       "      <th>1</th>\n",
       "      <td>Afghanistan</td>\n",
       "      <td>Male</td>\n",
       "      <td>2000</td>\n",
       "      <td>10689.508</td>\n",
       "    </tr>\n",
       "    <tr>\n",
       "      <th>2</th>\n",
       "      <td>Afghanistan</td>\n",
       "      <td>Female</td>\n",
       "      <td>2000</td>\n",
       "      <td>10090.449</td>\n",
       "    </tr>\n",
       "    <tr>\n",
       "      <th>3</th>\n",
       "      <td>Afghanistan</td>\n",
       "      <td>Rural</td>\n",
       "      <td>2000</td>\n",
       "      <td>15657.474</td>\n",
       "    </tr>\n",
       "    <tr>\n",
       "      <th>4</th>\n",
       "      <td>Afghanistan</td>\n",
       "      <td>Urban</td>\n",
       "      <td>2000</td>\n",
       "      <td>4436.282</td>\n",
       "    </tr>\n",
       "  </tbody>\n",
       "</table>\n",
       "</div>"
      ],
      "text/plain": [
       "       Country Granularity  Year  Population\n",
       "0  Afghanistan       Total  2000   20779.953\n",
       "1  Afghanistan        Male  2000   10689.508\n",
       "2  Afghanistan      Female  2000   10090.449\n",
       "3  Afghanistan       Rural  2000   15657.474\n",
       "4  Afghanistan       Urban  2000    4436.282"
      ]
     },
     "execution_count": 23,
     "metadata": {},
     "output_type": "execute_result"
    }
   ],
   "source": [
    "population.head()"
   ]
  },
  {
   "cell_type": "code",
   "execution_count": 24,
   "id": "1e0a693b",
   "metadata": {},
   "outputs": [
    {
     "name": "stdout",
     "output_type": "stream",
     "text": [
      "<class 'pandas.core.frame.DataFrame'>\n",
      "RangeIndex: 20914 entries, 0 to 20913\n",
      "Data columns (total 4 columns):\n",
      " #   Column       Non-Null Count  Dtype  \n",
      "---  ------       --------------  -----  \n",
      " 0   Country      20914 non-null  object \n",
      " 1   Granularity  20914 non-null  object \n",
      " 2   Year         20914 non-null  int64  \n",
      " 3   Population   20914 non-null  float64\n",
      "dtypes: float64(1), int64(1), object(2)\n",
      "memory usage: 653.7+ KB\n"
     ]
    }
   ],
   "source": [
    "population.info()"
   ]
  },
  {
   "cell_type": "code",
   "execution_count": 25,
   "id": "b032417b",
   "metadata": {},
   "outputs": [
    {
     "data": {
      "text/plain": [
       "Country        0\n",
       "Granularity    0\n",
       "Year           0\n",
       "Population     0\n",
       "dtype: int64"
      ]
     },
     "execution_count": 25,
     "metadata": {},
     "output_type": "execute_result"
    }
   ],
   "source": [
    "population.isna().sum()"
   ]
  },
  {
   "cell_type": "code",
   "execution_count": 26,
   "id": "38e225d5",
   "metadata": {},
   "outputs": [
    {
     "data": {
      "text/plain": [
       "0"
      ]
     },
     "execution_count": 26,
     "metadata": {},
     "output_type": "execute_result"
    }
   ],
   "source": [
    "population.duplicated().sum()"
   ]
  },
  {
   "cell_type": "code",
   "execution_count": 27,
   "id": "f878105b",
   "metadata": {},
   "outputs": [
    {
     "data": {
      "text/plain": [
       "239"
      ]
     },
     "execution_count": 27,
     "metadata": {},
     "output_type": "execute_result"
    }
   ],
   "source": [
    "population['Country'].nunique()"
   ]
  },
  {
   "cell_type": "code",
   "execution_count": 28,
   "id": "320e6036",
   "metadata": {},
   "outputs": [
    {
     "data": {
      "text/plain": [
       "array([2000, 2001, 2002, 2003, 2004, 2005, 2006, 2007, 2008, 2009, 2010,\n",
       "       2011, 2012, 2013, 2014, 2015, 2016, 2017, 2018], dtype=int64)"
      ]
     },
     "execution_count": 28,
     "metadata": {},
     "output_type": "execute_result"
    }
   ],
   "source": [
    "population['Year'].unique()"
   ]
  },
  {
   "cell_type": "code",
   "execution_count": 29,
   "id": "9b4487e7",
   "metadata": {},
   "outputs": [
    {
     "data": {
      "text/html": [
       "<div>\n",
       "<style scoped>\n",
       "    .dataframe tbody tr th:only-of-type {\n",
       "        vertical-align: middle;\n",
       "    }\n",
       "\n",
       "    .dataframe tbody tr th {\n",
       "        vertical-align: top;\n",
       "    }\n",
       "\n",
       "    .dataframe thead th {\n",
       "        text-align: right;\n",
       "    }\n",
       "</style>\n",
       "<table border=\"1\" class=\"dataframe\">\n",
       "  <thead>\n",
       "    <tr style=\"text-align: right;\">\n",
       "      <th></th>\n",
       "      <th>Country</th>\n",
       "      <th>Granularity</th>\n",
       "      <th>Year</th>\n",
       "      <th>Population</th>\n",
       "    </tr>\n",
       "  </thead>\n",
       "  <tbody>\n",
       "    <tr>\n",
       "      <th>3786</th>\n",
       "      <td>China</td>\n",
       "      <td>Total</td>\n",
       "      <td>2000</td>\n",
       "      <td>1319551.401</td>\n",
       "    </tr>\n",
       "    <tr>\n",
       "      <th>3787</th>\n",
       "      <td>China</td>\n",
       "      <td>Male</td>\n",
       "      <td>2000</td>\n",
       "      <td>676800.981</td>\n",
       "    </tr>\n",
       "    <tr>\n",
       "      <th>3788</th>\n",
       "      <td>China</td>\n",
       "      <td>Female</td>\n",
       "      <td>2000</td>\n",
       "      <td>642750.414</td>\n",
       "    </tr>\n",
       "    <tr>\n",
       "      <th>3789</th>\n",
       "      <td>China</td>\n",
       "      <td>Rural</td>\n",
       "      <td>2000</td>\n",
       "      <td>829403.316</td>\n",
       "    </tr>\n",
       "    <tr>\n",
       "      <th>3790</th>\n",
       "      <td>China</td>\n",
       "      <td>Urban</td>\n",
       "      <td>2000</td>\n",
       "      <td>482727.522</td>\n",
       "    </tr>\n",
       "    <tr>\n",
       "      <th>...</th>\n",
       "      <td>...</td>\n",
       "      <td>...</td>\n",
       "      <td>...</td>\n",
       "      <td>...</td>\n",
       "    </tr>\n",
       "    <tr>\n",
       "      <th>4256</th>\n",
       "      <td>China, Taiwan Province of</td>\n",
       "      <td>Total</td>\n",
       "      <td>2018</td>\n",
       "      <td>23726.460</td>\n",
       "    </tr>\n",
       "    <tr>\n",
       "      <th>4257</th>\n",
       "      <td>China, Taiwan Province of</td>\n",
       "      <td>Male</td>\n",
       "      <td>2018</td>\n",
       "      <td>11812.166</td>\n",
       "    </tr>\n",
       "    <tr>\n",
       "      <th>4258</th>\n",
       "      <td>China, Taiwan Province of</td>\n",
       "      <td>Female</td>\n",
       "      <td>2018</td>\n",
       "      <td>11914.294</td>\n",
       "    </tr>\n",
       "    <tr>\n",
       "      <th>4259</th>\n",
       "      <td>China, Taiwan Province of</td>\n",
       "      <td>Rural</td>\n",
       "      <td>2018</td>\n",
       "      <td>5175.798</td>\n",
       "    </tr>\n",
       "    <tr>\n",
       "      <th>4260</th>\n",
       "      <td>China, Taiwan Province of</td>\n",
       "      <td>Urban</td>\n",
       "      <td>2018</td>\n",
       "      <td>18518.291</td>\n",
       "    </tr>\n",
       "  </tbody>\n",
       "</table>\n",
       "<p>475 rows × 4 columns</p>\n",
       "</div>"
      ],
      "text/plain": [
       "                        Country Granularity  Year   Population\n",
       "3786                      China       Total  2000  1319551.401\n",
       "3787                      China        Male  2000   676800.981\n",
       "3788                      China      Female  2000   642750.414\n",
       "3789                      China       Rural  2000   829403.316\n",
       "3790                      China       Urban  2000   482727.522\n",
       "...                         ...         ...   ...          ...\n",
       "4256  China, Taiwan Province of       Total  2018    23726.460\n",
       "4257  China, Taiwan Province of        Male  2018    11812.166\n",
       "4258  China, Taiwan Province of      Female  2018    11914.294\n",
       "4259  China, Taiwan Province of       Rural  2018     5175.798\n",
       "4260  China, Taiwan Province of       Urban  2018    18518.291\n",
       "\n",
       "[475 rows x 4 columns]"
      ]
     },
     "execution_count": 29,
     "metadata": {},
     "output_type": "execute_result"
    }
   ],
   "source": [
    "# Je filtre les données de la Chine et ses provinces\n",
    "donnees_chine = population.loc[population['Country'].str.contains('China', case=False)]\n",
    "donnees_chine"
   ]
  },
  {
   "cell_type": "code",
   "execution_count": 30,
   "id": "1a75b3af",
   "metadata": {},
   "outputs": [
    {
     "data": {
      "text/plain": [
       "array(['China', 'China, Hong Kong SAR', 'China, Macao SAR',\n",
       "       'China, mainland', 'China, Taiwan Province of'], dtype=object)"
      ]
     },
     "execution_count": 30,
     "metadata": {},
     "output_type": "execute_result"
    }
   ],
   "source": [
    "donnees_chine['Country'].unique()"
   ]
  },
  {
   "cell_type": "code",
   "execution_count": 31,
   "id": "670e30cd",
   "metadata": {},
   "outputs": [
    {
     "data": {
      "text/plain": [
       "79126422.103"
      ]
     },
     "execution_count": 31,
     "metadata": {},
     "output_type": "execute_result"
    }
   ],
   "source": [
    "# Je calcule la population totale de la Chine uniquement\n",
    "donnees_chine.loc[donnees_chine['Country'] == 'China', 'Population'].sum()"
   ]
  },
  {
   "cell_type": "code",
   "execution_count": 32,
   "id": "87f2123d",
   "metadata": {},
   "outputs": [
    {
     "data": {
      "text/plain": [
       "79126422.103"
      ]
     },
     "execution_count": 32,
     "metadata": {},
     "output_type": "execute_result"
    }
   ],
   "source": [
    "# Je calcule la population totale des provinces \n",
    "donnees_chine.loc[donnees_chine['Country'].isin(['China, Hong Kong SAR', 'China, Macao SAR', 'China, mainland', 'China, Taiwan Province of']), 'Population'].sum()"
   ]
  },
  {
   "cell_type": "markdown",
   "id": "828a9a77",
   "metadata": {},
   "source": [
    "#### Le total de la population des provinces = à celui de la Chine, je supprime donc les provinces et je garde la chine uniquement, pour plus de compatibilité avec les autres df."
   ]
  },
  {
   "cell_type": "code",
   "execution_count": 33,
   "id": "829ecc05",
   "metadata": {},
   "outputs": [],
   "source": [
    "# Liste des provinces (pays) à supprimer\n",
    "pays_a_supprimer = ['China, Hong Kong SAR', 'China, Macao SAR','China, mainland', 'China, Taiwan Province of']\n",
    "population = population[~population['Country'].isin(pays_a_supprimer)]"
   ]
  },
  {
   "cell_type": "code",
   "execution_count": 34,
   "id": "69f166b5",
   "metadata": {},
   "outputs": [
    {
     "data": {
      "text/plain": [
       "235"
      ]
     },
     "execution_count": 34,
     "metadata": {},
     "output_type": "execute_result"
    }
   ],
   "source": [
    "population['Country'].nunique()"
   ]
  },
  {
   "cell_type": "code",
   "execution_count": 35,
   "id": "1593ad2b",
   "metadata": {},
   "outputs": [
    {
     "data": {
      "text/html": [
       "<div>\n",
       "<style scoped>\n",
       "    .dataframe tbody tr th:only-of-type {\n",
       "        vertical-align: middle;\n",
       "    }\n",
       "\n",
       "    .dataframe tbody tr th {\n",
       "        vertical-align: top;\n",
       "    }\n",
       "\n",
       "    .dataframe thead th {\n",
       "        text-align: right;\n",
       "    }\n",
       "</style>\n",
       "<table border=\"1\" class=\"dataframe\">\n",
       "  <thead>\n",
       "    <tr style=\"text-align: right;\">\n",
       "      <th></th>\n",
       "      <th>Country</th>\n",
       "      <th>Granularity</th>\n",
       "      <th>Year</th>\n",
       "      <th>Population</th>\n",
       "    </tr>\n",
       "  </thead>\n",
       "  <tbody>\n",
       "    <tr>\n",
       "      <th>17611</th>\n",
       "      <td>South Sudan</td>\n",
       "      <td>Total</td>\n",
       "      <td>2012</td>\n",
       "      <td>10113.649</td>\n",
       "    </tr>\n",
       "    <tr>\n",
       "      <th>17612</th>\n",
       "      <td>South Sudan</td>\n",
       "      <td>Male</td>\n",
       "      <td>2012</td>\n",
       "      <td>5057.131</td>\n",
       "    </tr>\n",
       "    <tr>\n",
       "      <th>17613</th>\n",
       "      <td>South Sudan</td>\n",
       "      <td>Female</td>\n",
       "      <td>2012</td>\n",
       "      <td>5056.517</td>\n",
       "    </tr>\n",
       "    <tr>\n",
       "      <th>17614</th>\n",
       "      <td>South Sudan</td>\n",
       "      <td>Rural</td>\n",
       "      <td>2012</td>\n",
       "      <td>8847.540</td>\n",
       "    </tr>\n",
       "    <tr>\n",
       "      <th>17615</th>\n",
       "      <td>South Sudan</td>\n",
       "      <td>Urban</td>\n",
       "      <td>2012</td>\n",
       "      <td>1970.718</td>\n",
       "    </tr>\n",
       "    <tr>\n",
       "      <th>...</th>\n",
       "      <td>...</td>\n",
       "      <td>...</td>\n",
       "      <td>...</td>\n",
       "      <td>...</td>\n",
       "    </tr>\n",
       "    <tr>\n",
       "      <th>17926</th>\n",
       "      <td>Sudan (former)</td>\n",
       "      <td>Total</td>\n",
       "      <td>2011</td>\n",
       "      <td>45180.380</td>\n",
       "    </tr>\n",
       "    <tr>\n",
       "      <th>17927</th>\n",
       "      <td>Sudan (former)</td>\n",
       "      <td>Male</td>\n",
       "      <td>2011</td>\n",
       "      <td>22544.682</td>\n",
       "    </tr>\n",
       "    <tr>\n",
       "      <th>17928</th>\n",
       "      <td>Sudan (former)</td>\n",
       "      <td>Female</td>\n",
       "      <td>2011</td>\n",
       "      <td>22635.689</td>\n",
       "    </tr>\n",
       "    <tr>\n",
       "      <th>17929</th>\n",
       "      <td>Sudan (former)</td>\n",
       "      <td>Rural</td>\n",
       "      <td>2011</td>\n",
       "      <td>32054.105</td>\n",
       "    </tr>\n",
       "    <tr>\n",
       "      <th>17930</th>\n",
       "      <td>Sudan (former)</td>\n",
       "      <td>Urban</td>\n",
       "      <td>2011</td>\n",
       "      <td>13562.066</td>\n",
       "    </tr>\n",
       "  </tbody>\n",
       "</table>\n",
       "<p>130 rows × 4 columns</p>\n",
       "</div>"
      ],
      "text/plain": [
       "              Country Granularity  Year  Population\n",
       "17611     South Sudan       Total  2012   10113.649\n",
       "17612     South Sudan        Male  2012    5057.131\n",
       "17613     South Sudan      Female  2012    5056.517\n",
       "17614     South Sudan       Rural  2012    8847.540\n",
       "17615     South Sudan       Urban  2012    1970.718\n",
       "...               ...         ...   ...         ...\n",
       "17926  Sudan (former)       Total  2011   45180.380\n",
       "17927  Sudan (former)        Male  2011   22544.682\n",
       "17928  Sudan (former)      Female  2011   22635.689\n",
       "17929  Sudan (former)       Rural  2011   32054.105\n",
       "17930  Sudan (former)       Urban  2011   13562.066\n",
       "\n",
       "[130 rows x 4 columns]"
      ]
     },
     "execution_count": 35,
     "metadata": {},
     "output_type": "execute_result"
    }
   ],
   "source": [
    "# Je filtre les données relatives au Sudan \n",
    "donnees_Sudan = population.loc[population['Country'].str.contains('Sudan', case=False)]\n",
    "donnees_Sudan"
   ]
  },
  {
   "cell_type": "code",
   "execution_count": 36,
   "id": "667003c7",
   "metadata": {},
   "outputs": [
    {
     "data": {
      "text/plain": [
       "array(['South Sudan', 'Sudan', 'Sudan (former)'], dtype=object)"
      ]
     },
     "execution_count": 36,
     "metadata": {},
     "output_type": "execute_result"
    }
   ],
   "source": [
    "donnees_Sudan['Country'].unique()"
   ]
  },
  {
   "cell_type": "code",
   "execution_count": 37,
   "id": "c02f440d",
   "metadata": {},
   "outputs": [],
   "source": [
    "# je renomme Sudan (former) qui = Sudan en 2011\n",
    "population['Country'] = population['Country'].replace({'Sudan (former)' :'Sudan'})"
   ]
  },
  {
   "cell_type": "code",
   "execution_count": 38,
   "id": "72e792bc",
   "metadata": {},
   "outputs": [],
   "source": [
    "# je renomme North Macedonia en Republic of North Macedonia \n",
    "population['Country'] = population['Country'].replace({'North Macedonia' :'Republic of North Macedonia'})"
   ]
  },
  {
   "cell_type": "code",
   "execution_count": 39,
   "id": "74856ee1",
   "metadata": {},
   "outputs": [
    {
     "data": {
      "text/plain": [
       "array([2000, 2001, 2002, 2003, 2004, 2005, 2006, 2007, 2008, 2009, 2010,\n",
       "       2011, 2012, 2013, 2014, 2015, 2016, 2017, 2018], dtype=int64)"
      ]
     },
     "execution_count": 39,
     "metadata": {},
     "output_type": "execute_result"
    }
   ],
   "source": [
    "population['Year'].unique()"
   ]
  },
  {
   "cell_type": "code",
   "execution_count": 40,
   "id": "2ae397ee",
   "metadata": {},
   "outputs": [
    {
     "data": {
      "text/html": [
       "<div>\n",
       "<style scoped>\n",
       "    .dataframe tbody tr th:only-of-type {\n",
       "        vertical-align: middle;\n",
       "    }\n",
       "\n",
       "    .dataframe tbody tr th {\n",
       "        vertical-align: top;\n",
       "    }\n",
       "\n",
       "    .dataframe thead th {\n",
       "        text-align: right;\n",
       "    }\n",
       "</style>\n",
       "<table border=\"1\" class=\"dataframe\">\n",
       "  <thead>\n",
       "    <tr style=\"text-align: right;\">\n",
       "      <th></th>\n",
       "      <th>Country</th>\n",
       "      <th>Granularity</th>\n",
       "      <th>Year</th>\n",
       "      <th>Population</th>\n",
       "    </tr>\n",
       "  </thead>\n",
       "  <tbody>\n",
       "    <tr>\n",
       "      <th>0</th>\n",
       "      <td>Afghanistan</td>\n",
       "      <td>Total</td>\n",
       "      <td>2000</td>\n",
       "      <td>20779953</td>\n",
       "    </tr>\n",
       "    <tr>\n",
       "      <th>1</th>\n",
       "      <td>Afghanistan</td>\n",
       "      <td>Male</td>\n",
       "      <td>2000</td>\n",
       "      <td>10689508</td>\n",
       "    </tr>\n",
       "    <tr>\n",
       "      <th>2</th>\n",
       "      <td>Afghanistan</td>\n",
       "      <td>Female</td>\n",
       "      <td>2000</td>\n",
       "      <td>10090449</td>\n",
       "    </tr>\n",
       "    <tr>\n",
       "      <th>3</th>\n",
       "      <td>Afghanistan</td>\n",
       "      <td>Rural</td>\n",
       "      <td>2000</td>\n",
       "      <td>15657474</td>\n",
       "    </tr>\n",
       "    <tr>\n",
       "      <th>4</th>\n",
       "      <td>Afghanistan</td>\n",
       "      <td>Urban</td>\n",
       "      <td>2000</td>\n",
       "      <td>4436282</td>\n",
       "    </tr>\n",
       "  </tbody>\n",
       "</table>\n",
       "</div>"
      ],
      "text/plain": [
       "       Country Granularity  Year  Population\n",
       "0  Afghanistan       Total  2000    20779953\n",
       "1  Afghanistan        Male  2000    10689508\n",
       "2  Afghanistan      Female  2000    10090449\n",
       "3  Afghanistan       Rural  2000    15657474\n",
       "4  Afghanistan       Urban  2000     4436282"
      ]
     },
     "execution_count": 40,
     "metadata": {},
     "output_type": "execute_result"
    }
   ],
   "source": [
    "# Passage d'un float à integer pour la variable population\n",
    "population['Population'] = (population['Population']*1000).astype(int)\n",
    "population.head()"
   ]
  },
  {
   "cell_type": "code",
   "execution_count": 41,
   "id": "eaf62424",
   "metadata": {},
   "outputs": [
    {
     "data": {
      "text/plain": [
       "5"
      ]
     },
     "execution_count": 41,
     "metadata": {},
     "output_type": "execute_result"
    }
   ],
   "source": [
    "population['Granularity'].nunique()"
   ]
  },
  {
   "cell_type": "code",
   "execution_count": 42,
   "id": "99e98dfc",
   "metadata": {},
   "outputs": [
    {
     "data": {
      "text/plain": [
       "array(['Total', 'Male', 'Female', 'Rural', 'Urban'], dtype=object)"
      ]
     },
     "execution_count": 42,
     "metadata": {},
     "output_type": "execute_result"
    }
   ],
   "source": [
    "population['Granularity'].unique()"
   ]
  },
  {
   "cell_type": "code",
   "execution_count": 43,
   "id": "28b7aaf1",
   "metadata": {},
   "outputs": [],
   "source": [
    "# Je crée les df population par granularité \n",
    "# pop_total\n",
    "pop_total = population.loc[population['Granularity'] == 'Total',:].copy()"
   ]
  },
  {
   "cell_type": "code",
   "execution_count": 44,
   "id": "2d3ee6cf",
   "metadata": {},
   "outputs": [
    {
     "data": {
      "text/html": [
       "<div>\n",
       "<style scoped>\n",
       "    .dataframe tbody tr th:only-of-type {\n",
       "        vertical-align: middle;\n",
       "    }\n",
       "\n",
       "    .dataframe tbody tr th {\n",
       "        vertical-align: top;\n",
       "    }\n",
       "\n",
       "    .dataframe thead th {\n",
       "        text-align: right;\n",
       "    }\n",
       "</style>\n",
       "<table border=\"1\" class=\"dataframe\">\n",
       "  <thead>\n",
       "    <tr style=\"text-align: right;\">\n",
       "      <th></th>\n",
       "      <th>Country</th>\n",
       "      <th>Granularity</th>\n",
       "      <th>Year</th>\n",
       "      <th>Pop_total</th>\n",
       "    </tr>\n",
       "  </thead>\n",
       "  <tbody>\n",
       "    <tr>\n",
       "      <th>0</th>\n",
       "      <td>Afghanistan</td>\n",
       "      <td>Total</td>\n",
       "      <td>2000</td>\n",
       "      <td>20779953</td>\n",
       "    </tr>\n",
       "    <tr>\n",
       "      <th>5</th>\n",
       "      <td>Afghanistan</td>\n",
       "      <td>Total</td>\n",
       "      <td>2001</td>\n",
       "      <td>21606988</td>\n",
       "    </tr>\n",
       "    <tr>\n",
       "      <th>10</th>\n",
       "      <td>Afghanistan</td>\n",
       "      <td>Total</td>\n",
       "      <td>2002</td>\n",
       "      <td>22600770</td>\n",
       "    </tr>\n",
       "    <tr>\n",
       "      <th>15</th>\n",
       "      <td>Afghanistan</td>\n",
       "      <td>Total</td>\n",
       "      <td>2003</td>\n",
       "      <td>23680871</td>\n",
       "    </tr>\n",
       "    <tr>\n",
       "      <th>20</th>\n",
       "      <td>Afghanistan</td>\n",
       "      <td>Total</td>\n",
       "      <td>2004</td>\n",
       "      <td>24726684</td>\n",
       "    </tr>\n",
       "  </tbody>\n",
       "</table>\n",
       "</div>"
      ],
      "text/plain": [
       "        Country Granularity  Year  Pop_total\n",
       "0   Afghanistan       Total  2000   20779953\n",
       "5   Afghanistan       Total  2001   21606988\n",
       "10  Afghanistan       Total  2002   22600770\n",
       "15  Afghanistan       Total  2003   23680871\n",
       "20  Afghanistan       Total  2004   24726684"
      ]
     },
     "execution_count": 44,
     "metadata": {},
     "output_type": "execute_result"
    }
   ],
   "source": [
    "pop_total.rename(columns ={'Population': 'Pop_total'}, inplace=True)\n",
    "pop_total.head()"
   ]
  },
  {
   "cell_type": "code",
   "execution_count": 45,
   "id": "10ad30aa",
   "metadata": {},
   "outputs": [],
   "source": [
    "del pop_total['Granularity']"
   ]
  },
  {
   "cell_type": "code",
   "execution_count": 46,
   "id": "4c2291a5",
   "metadata": {},
   "outputs": [],
   "source": [
    "# pop_male\n",
    "pop_male = population.loc[population['Granularity'] == 'Male',:].copy()"
   ]
  },
  {
   "cell_type": "code",
   "execution_count": 47,
   "id": "60b350bb",
   "metadata": {},
   "outputs": [
    {
     "data": {
      "text/html": [
       "<div>\n",
       "<style scoped>\n",
       "    .dataframe tbody tr th:only-of-type {\n",
       "        vertical-align: middle;\n",
       "    }\n",
       "\n",
       "    .dataframe tbody tr th {\n",
       "        vertical-align: top;\n",
       "    }\n",
       "\n",
       "    .dataframe thead th {\n",
       "        text-align: right;\n",
       "    }\n",
       "</style>\n",
       "<table border=\"1\" class=\"dataframe\">\n",
       "  <thead>\n",
       "    <tr style=\"text-align: right;\">\n",
       "      <th></th>\n",
       "      <th>Country</th>\n",
       "      <th>Granularity</th>\n",
       "      <th>Year</th>\n",
       "      <th>Pop_male</th>\n",
       "    </tr>\n",
       "  </thead>\n",
       "  <tbody>\n",
       "    <tr>\n",
       "      <th>1</th>\n",
       "      <td>Afghanistan</td>\n",
       "      <td>Male</td>\n",
       "      <td>2000</td>\n",
       "      <td>10689508</td>\n",
       "    </tr>\n",
       "    <tr>\n",
       "      <th>6</th>\n",
       "      <td>Afghanistan</td>\n",
       "      <td>Male</td>\n",
       "      <td>2001</td>\n",
       "      <td>11117754</td>\n",
       "    </tr>\n",
       "    <tr>\n",
       "      <th>11</th>\n",
       "      <td>Afghanistan</td>\n",
       "      <td>Male</td>\n",
       "      <td>2002</td>\n",
       "      <td>11642106</td>\n",
       "    </tr>\n",
       "    <tr>\n",
       "      <th>16</th>\n",
       "      <td>Afghanistan</td>\n",
       "      <td>Male</td>\n",
       "      <td>2003</td>\n",
       "      <td>12214634</td>\n",
       "    </tr>\n",
       "    <tr>\n",
       "      <th>21</th>\n",
       "      <td>Afghanistan</td>\n",
       "      <td>Male</td>\n",
       "      <td>2004</td>\n",
       "      <td>12763726</td>\n",
       "    </tr>\n",
       "  </tbody>\n",
       "</table>\n",
       "</div>"
      ],
      "text/plain": [
       "        Country Granularity  Year  Pop_male\n",
       "1   Afghanistan        Male  2000  10689508\n",
       "6   Afghanistan        Male  2001  11117754\n",
       "11  Afghanistan        Male  2002  11642106\n",
       "16  Afghanistan        Male  2003  12214634\n",
       "21  Afghanistan        Male  2004  12763726"
      ]
     },
     "execution_count": 47,
     "metadata": {},
     "output_type": "execute_result"
    }
   ],
   "source": [
    "pop_male.rename(columns ={'Population': 'Pop_male'}, inplace=True)\n",
    "pop_male.head()"
   ]
  },
  {
   "cell_type": "code",
   "execution_count": 48,
   "id": "64153e9f",
   "metadata": {},
   "outputs": [],
   "source": [
    "del pop_male['Granularity']"
   ]
  },
  {
   "cell_type": "code",
   "execution_count": 49,
   "id": "bd367d8f",
   "metadata": {},
   "outputs": [],
   "source": [
    "# pop_female\n",
    "pop_female = population.loc[population['Granularity'] == 'Female',:].copy()"
   ]
  },
  {
   "cell_type": "code",
   "execution_count": 50,
   "id": "e8246e52",
   "metadata": {},
   "outputs": [
    {
     "data": {
      "text/html": [
       "<div>\n",
       "<style scoped>\n",
       "    .dataframe tbody tr th:only-of-type {\n",
       "        vertical-align: middle;\n",
       "    }\n",
       "\n",
       "    .dataframe tbody tr th {\n",
       "        vertical-align: top;\n",
       "    }\n",
       "\n",
       "    .dataframe thead th {\n",
       "        text-align: right;\n",
       "    }\n",
       "</style>\n",
       "<table border=\"1\" class=\"dataframe\">\n",
       "  <thead>\n",
       "    <tr style=\"text-align: right;\">\n",
       "      <th></th>\n",
       "      <th>Country</th>\n",
       "      <th>Granularity</th>\n",
       "      <th>Year</th>\n",
       "      <th>Pop_female</th>\n",
       "    </tr>\n",
       "  </thead>\n",
       "  <tbody>\n",
       "    <tr>\n",
       "      <th>2</th>\n",
       "      <td>Afghanistan</td>\n",
       "      <td>Female</td>\n",
       "      <td>2000</td>\n",
       "      <td>10090449</td>\n",
       "    </tr>\n",
       "    <tr>\n",
       "      <th>7</th>\n",
       "      <td>Afghanistan</td>\n",
       "      <td>Female</td>\n",
       "      <td>2001</td>\n",
       "      <td>10489238</td>\n",
       "    </tr>\n",
       "    <tr>\n",
       "      <th>12</th>\n",
       "      <td>Afghanistan</td>\n",
       "      <td>Female</td>\n",
       "      <td>2002</td>\n",
       "      <td>10958668</td>\n",
       "    </tr>\n",
       "    <tr>\n",
       "      <th>17</th>\n",
       "      <td>Afghanistan</td>\n",
       "      <td>Female</td>\n",
       "      <td>2003</td>\n",
       "      <td>11466237</td>\n",
       "    </tr>\n",
       "    <tr>\n",
       "      <th>22</th>\n",
       "      <td>Afghanistan</td>\n",
       "      <td>Female</td>\n",
       "      <td>2004</td>\n",
       "      <td>11962963</td>\n",
       "    </tr>\n",
       "  </tbody>\n",
       "</table>\n",
       "</div>"
      ],
      "text/plain": [
       "        Country Granularity  Year  Pop_female\n",
       "2   Afghanistan      Female  2000    10090449\n",
       "7   Afghanistan      Female  2001    10489238\n",
       "12  Afghanistan      Female  2002    10958668\n",
       "17  Afghanistan      Female  2003    11466237\n",
       "22  Afghanistan      Female  2004    11962963"
      ]
     },
     "execution_count": 50,
     "metadata": {},
     "output_type": "execute_result"
    }
   ],
   "source": [
    "pop_female.rename(columns ={'Population':'Pop_female'}, inplace=True)\n",
    "pop_female.head()"
   ]
  },
  {
   "cell_type": "code",
   "execution_count": 51,
   "id": "bce2acf9",
   "metadata": {},
   "outputs": [],
   "source": [
    "del pop_female['Granularity']"
   ]
  },
  {
   "cell_type": "code",
   "execution_count": 52,
   "id": "9497e32b",
   "metadata": {},
   "outputs": [],
   "source": [
    "# pop_rural\n",
    "pop_rural = population.loc[population['Granularity'] == 'Rural',:].copy()"
   ]
  },
  {
   "cell_type": "code",
   "execution_count": 53,
   "id": "722a0a59",
   "metadata": {},
   "outputs": [
    {
     "data": {
      "text/html": [
       "<div>\n",
       "<style scoped>\n",
       "    .dataframe tbody tr th:only-of-type {\n",
       "        vertical-align: middle;\n",
       "    }\n",
       "\n",
       "    .dataframe tbody tr th {\n",
       "        vertical-align: top;\n",
       "    }\n",
       "\n",
       "    .dataframe thead th {\n",
       "        text-align: right;\n",
       "    }\n",
       "</style>\n",
       "<table border=\"1\" class=\"dataframe\">\n",
       "  <thead>\n",
       "    <tr style=\"text-align: right;\">\n",
       "      <th></th>\n",
       "      <th>Country</th>\n",
       "      <th>Granularity</th>\n",
       "      <th>Year</th>\n",
       "      <th>Pop_rural</th>\n",
       "    </tr>\n",
       "  </thead>\n",
       "  <tbody>\n",
       "    <tr>\n",
       "      <th>3</th>\n",
       "      <td>Afghanistan</td>\n",
       "      <td>Rural</td>\n",
       "      <td>2000</td>\n",
       "      <td>15657474</td>\n",
       "    </tr>\n",
       "    <tr>\n",
       "      <th>8</th>\n",
       "      <td>Afghanistan</td>\n",
       "      <td>Rural</td>\n",
       "      <td>2001</td>\n",
       "      <td>16318324</td>\n",
       "    </tr>\n",
       "    <tr>\n",
       "      <th>13</th>\n",
       "      <td>Afghanistan</td>\n",
       "      <td>Rural</td>\n",
       "      <td>2002</td>\n",
       "      <td>17086910</td>\n",
       "    </tr>\n",
       "    <tr>\n",
       "      <th>18</th>\n",
       "      <td>Afghanistan</td>\n",
       "      <td>Rural</td>\n",
       "      <td>2003</td>\n",
       "      <td>17909063</td>\n",
       "    </tr>\n",
       "    <tr>\n",
       "      <th>23</th>\n",
       "      <td>Afghanistan</td>\n",
       "      <td>Rural</td>\n",
       "      <td>2004</td>\n",
       "      <td>18692107</td>\n",
       "    </tr>\n",
       "  </tbody>\n",
       "</table>\n",
       "</div>"
      ],
      "text/plain": [
       "        Country Granularity  Year  Pop_rural\n",
       "3   Afghanistan       Rural  2000   15657474\n",
       "8   Afghanistan       Rural  2001   16318324\n",
       "13  Afghanistan       Rural  2002   17086910\n",
       "18  Afghanistan       Rural  2003   17909063\n",
       "23  Afghanistan       Rural  2004   18692107"
      ]
     },
     "execution_count": 53,
     "metadata": {},
     "output_type": "execute_result"
    }
   ],
   "source": [
    "pop_rural.rename(columns ={'Population':'Pop_rural'}, inplace=True)\n",
    "pop_rural.head()"
   ]
  },
  {
   "cell_type": "code",
   "execution_count": 54,
   "id": "8327c105",
   "metadata": {},
   "outputs": [],
   "source": [
    "del pop_rural['Granularity']"
   ]
  },
  {
   "cell_type": "code",
   "execution_count": 55,
   "id": "09de514a",
   "metadata": {},
   "outputs": [],
   "source": [
    "# pop_urban\n",
    "pop_urban = population.loc[population['Granularity'] == 'Urban',:].copy()"
   ]
  },
  {
   "cell_type": "code",
   "execution_count": 56,
   "id": "5b479946",
   "metadata": {},
   "outputs": [
    {
     "data": {
      "text/html": [
       "<div>\n",
       "<style scoped>\n",
       "    .dataframe tbody tr th:only-of-type {\n",
       "        vertical-align: middle;\n",
       "    }\n",
       "\n",
       "    .dataframe tbody tr th {\n",
       "        vertical-align: top;\n",
       "    }\n",
       "\n",
       "    .dataframe thead th {\n",
       "        text-align: right;\n",
       "    }\n",
       "</style>\n",
       "<table border=\"1\" class=\"dataframe\">\n",
       "  <thead>\n",
       "    <tr style=\"text-align: right;\">\n",
       "      <th></th>\n",
       "      <th>Country</th>\n",
       "      <th>Granularity</th>\n",
       "      <th>Year</th>\n",
       "      <th>Pop_urban</th>\n",
       "    </tr>\n",
       "  </thead>\n",
       "  <tbody>\n",
       "    <tr>\n",
       "      <th>4</th>\n",
       "      <td>Afghanistan</td>\n",
       "      <td>Urban</td>\n",
       "      <td>2000</td>\n",
       "      <td>4436282</td>\n",
       "    </tr>\n",
       "    <tr>\n",
       "      <th>9</th>\n",
       "      <td>Afghanistan</td>\n",
       "      <td>Urban</td>\n",
       "      <td>2001</td>\n",
       "      <td>4648139</td>\n",
       "    </tr>\n",
       "    <tr>\n",
       "      <th>14</th>\n",
       "      <td>Afghanistan</td>\n",
       "      <td>Urban</td>\n",
       "      <td>2002</td>\n",
       "      <td>4893013</td>\n",
       "    </tr>\n",
       "    <tr>\n",
       "      <th>19</th>\n",
       "      <td>Afghanistan</td>\n",
       "      <td>Urban</td>\n",
       "      <td>2003</td>\n",
       "      <td>5155788</td>\n",
       "    </tr>\n",
       "    <tr>\n",
       "      <th>24</th>\n",
       "      <td>Afghanistan</td>\n",
       "      <td>Urban</td>\n",
       "      <td>2004</td>\n",
       "      <td>5426872</td>\n",
       "    </tr>\n",
       "  </tbody>\n",
       "</table>\n",
       "</div>"
      ],
      "text/plain": [
       "        Country Granularity  Year  Pop_urban\n",
       "4   Afghanistan       Urban  2000    4436282\n",
       "9   Afghanistan       Urban  2001    4648139\n",
       "14  Afghanistan       Urban  2002    4893013\n",
       "19  Afghanistan       Urban  2003    5155788\n",
       "24  Afghanistan       Urban  2004    5426872"
      ]
     },
     "execution_count": 56,
     "metadata": {},
     "output_type": "execute_result"
    }
   ],
   "source": [
    "pop_urban.rename(columns ={'Population':'Pop_urban'}, inplace=True)\n",
    "pop_urban.head()"
   ]
  },
  {
   "cell_type": "code",
   "execution_count": 57,
   "id": "6a5836d4",
   "metadata": {},
   "outputs": [],
   "source": [
    "del pop_urban['Granularity']"
   ]
  },
  {
   "cell_type": "code",
   "execution_count": 58,
   "id": "4d3814af",
   "metadata": {},
   "outputs": [
    {
     "data": {
      "text/html": [
       "<div>\n",
       "<style scoped>\n",
       "    .dataframe tbody tr th:only-of-type {\n",
       "        vertical-align: middle;\n",
       "    }\n",
       "\n",
       "    .dataframe tbody tr th {\n",
       "        vertical-align: top;\n",
       "    }\n",
       "\n",
       "    .dataframe thead th {\n",
       "        text-align: right;\n",
       "    }\n",
       "</style>\n",
       "<table border=\"1\" class=\"dataframe\">\n",
       "  <thead>\n",
       "    <tr style=\"text-align: right;\">\n",
       "      <th></th>\n",
       "      <th>Country</th>\n",
       "      <th>Year</th>\n",
       "      <th>Pop_female</th>\n",
       "      <th>Pop_male</th>\n",
       "      <th>_merge</th>\n",
       "    </tr>\n",
       "  </thead>\n",
       "  <tbody>\n",
       "    <tr>\n",
       "      <th>0</th>\n",
       "      <td>Afghanistan</td>\n",
       "      <td>2000</td>\n",
       "      <td>10090449</td>\n",
       "      <td>10689508</td>\n",
       "      <td>both</td>\n",
       "    </tr>\n",
       "    <tr>\n",
       "      <th>1</th>\n",
       "      <td>Afghanistan</td>\n",
       "      <td>2001</td>\n",
       "      <td>10489238</td>\n",
       "      <td>11117754</td>\n",
       "      <td>both</td>\n",
       "    </tr>\n",
       "    <tr>\n",
       "      <th>2</th>\n",
       "      <td>Afghanistan</td>\n",
       "      <td>2002</td>\n",
       "      <td>10958668</td>\n",
       "      <td>11642106</td>\n",
       "      <td>both</td>\n",
       "    </tr>\n",
       "    <tr>\n",
       "      <th>3</th>\n",
       "      <td>Afghanistan</td>\n",
       "      <td>2003</td>\n",
       "      <td>11466237</td>\n",
       "      <td>12214634</td>\n",
       "      <td>both</td>\n",
       "    </tr>\n",
       "    <tr>\n",
       "      <th>4</th>\n",
       "      <td>Afghanistan</td>\n",
       "      <td>2004</td>\n",
       "      <td>11962963</td>\n",
       "      <td>12763726</td>\n",
       "      <td>both</td>\n",
       "    </tr>\n",
       "  </tbody>\n",
       "</table>\n",
       "</div>"
      ],
      "text/plain": [
       "       Country  Year  Pop_female  Pop_male _merge\n",
       "0  Afghanistan  2000    10090449  10689508   both\n",
       "1  Afghanistan  2001    10489238  11117754   both\n",
       "2  Afghanistan  2002    10958668  11642106   both\n",
       "3  Afghanistan  2003    11466237  12214634   both\n",
       "4  Afghanistan  2004    11962963  12763726   both"
      ]
     },
     "execution_count": 58,
     "metadata": {},
     "output_type": "execute_result"
    }
   ],
   "source": [
    "# Je joins mes 5 df pour avoir mon df final Population \n",
    "# JOINTURE 1 - Je joins le df pop_female au df pop_male \n",
    "pop_sexe = pd.merge(pop_female, pop_male, on=['Country','Year'], how='inner',  indicator= True)\n",
    "pop_sexe.head()"
   ]
  },
  {
   "cell_type": "code",
   "execution_count": 59,
   "id": "a380f40c",
   "metadata": {},
   "outputs": [
    {
     "data": {
      "text/plain": [
       "(3752, 5)"
      ]
     },
     "execution_count": 59,
     "metadata": {},
     "output_type": "execute_result"
    }
   ],
   "source": [
    "pop_sexe.shape"
   ]
  },
  {
   "cell_type": "code",
   "execution_count": 60,
   "id": "2503f47f",
   "metadata": {},
   "outputs": [],
   "source": [
    "# Je supprime l'indicator après analyse pour ne pas qu'il me pose problème lors de la seconde jointure\n",
    "pop_sexe = pop_sexe.drop('_merge', axis=1)"
   ]
  },
  {
   "cell_type": "code",
   "execution_count": 61,
   "id": "2fa3aae2",
   "metadata": {},
   "outputs": [
    {
     "data": {
      "text/html": [
       "<div>\n",
       "<style scoped>\n",
       "    .dataframe tbody tr th:only-of-type {\n",
       "        vertical-align: middle;\n",
       "    }\n",
       "\n",
       "    .dataframe tbody tr th {\n",
       "        vertical-align: top;\n",
       "    }\n",
       "\n",
       "    .dataframe thead th {\n",
       "        text-align: right;\n",
       "    }\n",
       "</style>\n",
       "<table border=\"1\" class=\"dataframe\">\n",
       "  <thead>\n",
       "    <tr style=\"text-align: right;\">\n",
       "      <th></th>\n",
       "      <th>Country</th>\n",
       "      <th>Year</th>\n",
       "      <th>Pop_rural</th>\n",
       "      <th>Pop_urban</th>\n",
       "      <th>_merge</th>\n",
       "    </tr>\n",
       "  </thead>\n",
       "  <tbody>\n",
       "    <tr>\n",
       "      <th>0</th>\n",
       "      <td>Afghanistan</td>\n",
       "      <td>2000</td>\n",
       "      <td>15657474</td>\n",
       "      <td>4436282</td>\n",
       "      <td>both</td>\n",
       "    </tr>\n",
       "    <tr>\n",
       "      <th>1</th>\n",
       "      <td>Afghanistan</td>\n",
       "      <td>2001</td>\n",
       "      <td>16318324</td>\n",
       "      <td>4648139</td>\n",
       "      <td>both</td>\n",
       "    </tr>\n",
       "    <tr>\n",
       "      <th>2</th>\n",
       "      <td>Afghanistan</td>\n",
       "      <td>2002</td>\n",
       "      <td>17086910</td>\n",
       "      <td>4893013</td>\n",
       "      <td>both</td>\n",
       "    </tr>\n",
       "    <tr>\n",
       "      <th>3</th>\n",
       "      <td>Afghanistan</td>\n",
       "      <td>2003</td>\n",
       "      <td>17909063</td>\n",
       "      <td>5155788</td>\n",
       "      <td>both</td>\n",
       "    </tr>\n",
       "    <tr>\n",
       "      <th>4</th>\n",
       "      <td>Afghanistan</td>\n",
       "      <td>2004</td>\n",
       "      <td>18692107</td>\n",
       "      <td>5426872</td>\n",
       "      <td>both</td>\n",
       "    </tr>\n",
       "  </tbody>\n",
       "</table>\n",
       "</div>"
      ],
      "text/plain": [
       "       Country  Year  Pop_rural  Pop_urban _merge\n",
       "0  Afghanistan  2000   15657474    4436282   both\n",
       "1  Afghanistan  2001   16318324    4648139   both\n",
       "2  Afghanistan  2002   17086910    4893013   both\n",
       "3  Afghanistan  2003   17909063    5155788   both\n",
       "4  Afghanistan  2004   18692107    5426872   both"
      ]
     },
     "execution_count": 61,
     "metadata": {},
     "output_type": "execute_result"
    }
   ],
   "source": [
    "# JOINTURE 2 - Je joins le df pop_urban au df pop_rural\n",
    "pop_zone = pd.merge(pop_rural, pop_urban, on=['Country','Year'], how='inner',  indicator= True)\n",
    "pop_zone.head()"
   ]
  },
  {
   "cell_type": "code",
   "execution_count": 62,
   "id": "e87e05c5",
   "metadata": {},
   "outputs": [],
   "source": [
    "# Je supprime l'indicator après analyse pour ne pas qu'il me pose problème lors de la seconde jointure\n",
    "pop_zone = pop_zone.drop('_merge', axis=1)"
   ]
  },
  {
   "cell_type": "code",
   "execution_count": 63,
   "id": "a3966dad",
   "metadata": {},
   "outputs": [
    {
     "data": {
      "text/plain": [
       "(4338, 4)"
      ]
     },
     "execution_count": 63,
     "metadata": {},
     "output_type": "execute_result"
    }
   ],
   "source": [
    "pop_zone.shape"
   ]
  },
  {
   "cell_type": "code",
   "execution_count": 64,
   "id": "19edfc27",
   "metadata": {},
   "outputs": [
    {
     "data": {
      "text/html": [
       "<div>\n",
       "<style scoped>\n",
       "    .dataframe tbody tr th:only-of-type {\n",
       "        vertical-align: middle;\n",
       "    }\n",
       "\n",
       "    .dataframe tbody tr th {\n",
       "        vertical-align: top;\n",
       "    }\n",
       "\n",
       "    .dataframe thead th {\n",
       "        text-align: right;\n",
       "    }\n",
       "</style>\n",
       "<table border=\"1\" class=\"dataframe\">\n",
       "  <thead>\n",
       "    <tr style=\"text-align: right;\">\n",
       "      <th></th>\n",
       "      <th>Country</th>\n",
       "      <th>Year</th>\n",
       "      <th>Pop_rural</th>\n",
       "      <th>Pop_urban</th>\n",
       "      <th>Pop_total</th>\n",
       "      <th>_merge</th>\n",
       "    </tr>\n",
       "  </thead>\n",
       "  <tbody>\n",
       "    <tr>\n",
       "      <th>0</th>\n",
       "      <td>Afghanistan</td>\n",
       "      <td>2000</td>\n",
       "      <td>15657474</td>\n",
       "      <td>4436282</td>\n",
       "      <td>20779953</td>\n",
       "      <td>both</td>\n",
       "    </tr>\n",
       "    <tr>\n",
       "      <th>1</th>\n",
       "      <td>Afghanistan</td>\n",
       "      <td>2001</td>\n",
       "      <td>16318324</td>\n",
       "      <td>4648139</td>\n",
       "      <td>21606988</td>\n",
       "      <td>both</td>\n",
       "    </tr>\n",
       "    <tr>\n",
       "      <th>2</th>\n",
       "      <td>Afghanistan</td>\n",
       "      <td>2002</td>\n",
       "      <td>17086910</td>\n",
       "      <td>4893013</td>\n",
       "      <td>22600770</td>\n",
       "      <td>both</td>\n",
       "    </tr>\n",
       "    <tr>\n",
       "      <th>3</th>\n",
       "      <td>Afghanistan</td>\n",
       "      <td>2003</td>\n",
       "      <td>17909063</td>\n",
       "      <td>5155788</td>\n",
       "      <td>23680871</td>\n",
       "      <td>both</td>\n",
       "    </tr>\n",
       "    <tr>\n",
       "      <th>4</th>\n",
       "      <td>Afghanistan</td>\n",
       "      <td>2004</td>\n",
       "      <td>18692107</td>\n",
       "      <td>5426872</td>\n",
       "      <td>24726684</td>\n",
       "      <td>both</td>\n",
       "    </tr>\n",
       "  </tbody>\n",
       "</table>\n",
       "</div>"
      ],
      "text/plain": [
       "       Country  Year  Pop_rural  Pop_urban  Pop_total _merge\n",
       "0  Afghanistan  2000   15657474    4436282   20779953   both\n",
       "1  Afghanistan  2001   16318324    4648139   21606988   both\n",
       "2  Afghanistan  2002   17086910    4893013   22600770   both\n",
       "3  Afghanistan  2003   17909063    5155788   23680871   both\n",
       "4  Afghanistan  2004   18692107    5426872   24726684   both"
      ]
     },
     "execution_count": 64,
     "metadata": {},
     "output_type": "execute_result"
    }
   ],
   "source": [
    "# JOINTURE 3 - Je joins le df pop_zone au df pop_total\n",
    "data = pd.merge(pop_zone, pop_total, on=['Country','Year'], how='left',  indicator= True)\n",
    "data.head()"
   ]
  },
  {
   "cell_type": "code",
   "execution_count": 65,
   "id": "c4c0e586",
   "metadata": {},
   "outputs": [
    {
     "data": {
      "text/plain": [
       "(4338, 6)"
      ]
     },
     "execution_count": 65,
     "metadata": {},
     "output_type": "execute_result"
    }
   ],
   "source": [
    "data.shape"
   ]
  },
  {
   "cell_type": "code",
   "execution_count": 66,
   "id": "9a4eca50",
   "metadata": {},
   "outputs": [],
   "source": [
    "# Je supprime l'indicator après analyse pour ne pas qu'il me pose problème lors de la seconde jointure\n",
    "data = data.drop('_merge', axis=1)"
   ]
  },
  {
   "cell_type": "code",
   "execution_count": 67,
   "id": "e4e33ad2",
   "metadata": {},
   "outputs": [
    {
     "data": {
      "text/html": [
       "<div>\n",
       "<style scoped>\n",
       "    .dataframe tbody tr th:only-of-type {\n",
       "        vertical-align: middle;\n",
       "    }\n",
       "\n",
       "    .dataframe tbody tr th {\n",
       "        vertical-align: top;\n",
       "    }\n",
       "\n",
       "    .dataframe thead th {\n",
       "        text-align: right;\n",
       "    }\n",
       "</style>\n",
       "<table border=\"1\" class=\"dataframe\">\n",
       "  <thead>\n",
       "    <tr style=\"text-align: right;\">\n",
       "      <th></th>\n",
       "      <th>Country</th>\n",
       "      <th>Year</th>\n",
       "      <th>Pop_rural</th>\n",
       "      <th>Pop_urban</th>\n",
       "      <th>Pop_total</th>\n",
       "      <th>Pop_female</th>\n",
       "      <th>Pop_male</th>\n",
       "      <th>_merge</th>\n",
       "    </tr>\n",
       "  </thead>\n",
       "  <tbody>\n",
       "    <tr>\n",
       "      <th>0</th>\n",
       "      <td>Afghanistan</td>\n",
       "      <td>2000</td>\n",
       "      <td>15657474</td>\n",
       "      <td>4436282</td>\n",
       "      <td>20779953</td>\n",
       "      <td>10090449.0</td>\n",
       "      <td>10689508.0</td>\n",
       "      <td>both</td>\n",
       "    </tr>\n",
       "    <tr>\n",
       "      <th>1</th>\n",
       "      <td>Afghanistan</td>\n",
       "      <td>2001</td>\n",
       "      <td>16318324</td>\n",
       "      <td>4648139</td>\n",
       "      <td>21606988</td>\n",
       "      <td>10489238.0</td>\n",
       "      <td>11117754.0</td>\n",
       "      <td>both</td>\n",
       "    </tr>\n",
       "    <tr>\n",
       "      <th>2</th>\n",
       "      <td>Afghanistan</td>\n",
       "      <td>2002</td>\n",
       "      <td>17086910</td>\n",
       "      <td>4893013</td>\n",
       "      <td>22600770</td>\n",
       "      <td>10958668.0</td>\n",
       "      <td>11642106.0</td>\n",
       "      <td>both</td>\n",
       "    </tr>\n",
       "    <tr>\n",
       "      <th>3</th>\n",
       "      <td>Afghanistan</td>\n",
       "      <td>2003</td>\n",
       "      <td>17909063</td>\n",
       "      <td>5155788</td>\n",
       "      <td>23680871</td>\n",
       "      <td>11466237.0</td>\n",
       "      <td>12214634.0</td>\n",
       "      <td>both</td>\n",
       "    </tr>\n",
       "    <tr>\n",
       "      <th>4</th>\n",
       "      <td>Afghanistan</td>\n",
       "      <td>2004</td>\n",
       "      <td>18692107</td>\n",
       "      <td>5426872</td>\n",
       "      <td>24726684</td>\n",
       "      <td>11962963.0</td>\n",
       "      <td>12763726.0</td>\n",
       "      <td>both</td>\n",
       "    </tr>\n",
       "  </tbody>\n",
       "</table>\n",
       "</div>"
      ],
      "text/plain": [
       "       Country  Year  Pop_rural  Pop_urban  Pop_total  Pop_female    Pop_male  \\\n",
       "0  Afghanistan  2000   15657474    4436282   20779953  10090449.0  10689508.0   \n",
       "1  Afghanistan  2001   16318324    4648139   21606988  10489238.0  11117754.0   \n",
       "2  Afghanistan  2002   17086910    4893013   22600770  10958668.0  11642106.0   \n",
       "3  Afghanistan  2003   17909063    5155788   23680871  11466237.0  12214634.0   \n",
       "4  Afghanistan  2004   18692107    5426872   24726684  11962963.0  12763726.0   \n",
       "\n",
       "  _merge  \n",
       "0   both  \n",
       "1   both  \n",
       "2   both  \n",
       "3   both  \n",
       "4   both  "
      ]
     },
     "execution_count": 67,
     "metadata": {},
     "output_type": "execute_result"
    }
   ],
   "source": [
    "# JOINTURE 3 - Je joins le df data au df pop_total\n",
    "population = pd.merge(data, pop_sexe, on=['Country','Year'], how='left',  indicator= True)\n",
    "population.head()"
   ]
  },
  {
   "cell_type": "code",
   "execution_count": 68,
   "id": "677643ea",
   "metadata": {},
   "outputs": [],
   "source": [
    "# Je supprime l'indicator \n",
    "population = population.drop('_merge', axis=1)"
   ]
  },
  {
   "cell_type": "code",
   "execution_count": 69,
   "id": "4e621c72",
   "metadata": {},
   "outputs": [
    {
     "data": {
      "text/plain": [
       "(4338, 7)"
      ]
     },
     "execution_count": 69,
     "metadata": {},
     "output_type": "execute_result"
    }
   ],
   "source": [
    "population.shape"
   ]
  },
  {
   "cell_type": "markdown",
   "id": "c40696dd",
   "metadata": {},
   "source": [
    "### 3.3 Stabilité politique"
   ]
  },
  {
   "cell_type": "code",
   "execution_count": 70,
   "id": "0eb81ae2",
   "metadata": {},
   "outputs": [
    {
     "data": {
      "text/html": [
       "<div>\n",
       "<style scoped>\n",
       "    .dataframe tbody tr th:only-of-type {\n",
       "        vertical-align: middle;\n",
       "    }\n",
       "\n",
       "    .dataframe tbody tr th {\n",
       "        vertical-align: top;\n",
       "    }\n",
       "\n",
       "    .dataframe thead th {\n",
       "        text-align: right;\n",
       "    }\n",
       "</style>\n",
       "<table border=\"1\" class=\"dataframe\">\n",
       "  <thead>\n",
       "    <tr style=\"text-align: right;\">\n",
       "      <th></th>\n",
       "      <th>Country</th>\n",
       "      <th>Year</th>\n",
       "      <th>Political_Stability</th>\n",
       "      <th>Granularity</th>\n",
       "    </tr>\n",
       "  </thead>\n",
       "  <tbody>\n",
       "    <tr>\n",
       "      <th>0</th>\n",
       "      <td>Afghanistan</td>\n",
       "      <td>2000</td>\n",
       "      <td>-2.44</td>\n",
       "      <td>Total</td>\n",
       "    </tr>\n",
       "    <tr>\n",
       "      <th>1</th>\n",
       "      <td>Afghanistan</td>\n",
       "      <td>2002</td>\n",
       "      <td>-2.04</td>\n",
       "      <td>Total</td>\n",
       "    </tr>\n",
       "    <tr>\n",
       "      <th>2</th>\n",
       "      <td>Afghanistan</td>\n",
       "      <td>2003</td>\n",
       "      <td>-2.20</td>\n",
       "      <td>Total</td>\n",
       "    </tr>\n",
       "    <tr>\n",
       "      <th>3</th>\n",
       "      <td>Afghanistan</td>\n",
       "      <td>2004</td>\n",
       "      <td>-2.30</td>\n",
       "      <td>Total</td>\n",
       "    </tr>\n",
       "    <tr>\n",
       "      <th>4</th>\n",
       "      <td>Afghanistan</td>\n",
       "      <td>2005</td>\n",
       "      <td>-2.07</td>\n",
       "      <td>Total</td>\n",
       "    </tr>\n",
       "  </tbody>\n",
       "</table>\n",
       "</div>"
      ],
      "text/plain": [
       "       Country  Year  Political_Stability Granularity\n",
       "0  Afghanistan  2000                -2.44       Total\n",
       "1  Afghanistan  2002                -2.04       Total\n",
       "2  Afghanistan  2003                -2.20       Total\n",
       "3  Afghanistan  2004                -2.30       Total\n",
       "4  Afghanistan  2005                -2.07       Total"
      ]
     },
     "execution_count": 70,
     "metadata": {},
     "output_type": "execute_result"
    }
   ],
   "source": [
    "politicals.head()"
   ]
  },
  {
   "cell_type": "code",
   "execution_count": 71,
   "id": "89db6c1d",
   "metadata": {},
   "outputs": [
    {
     "name": "stdout",
     "output_type": "stream",
     "text": [
      "<class 'pandas.core.frame.DataFrame'>\n",
      "RangeIndex: 3526 entries, 0 to 3525\n",
      "Data columns (total 4 columns):\n",
      " #   Column               Non-Null Count  Dtype  \n",
      "---  ------               --------------  -----  \n",
      " 0   Country              3526 non-null   object \n",
      " 1   Year                 3526 non-null   int64  \n",
      " 2   Political_Stability  3526 non-null   float64\n",
      " 3   Granularity          3526 non-null   object \n",
      "dtypes: float64(1), int64(1), object(2)\n",
      "memory usage: 110.3+ KB\n"
     ]
    }
   ],
   "source": [
    "politicals.info()"
   ]
  },
  {
   "cell_type": "code",
   "execution_count": 72,
   "id": "5e68513d",
   "metadata": {},
   "outputs": [
    {
     "data": {
      "text/plain": [
       "Country                0\n",
       "Year                   0\n",
       "Political_Stability    0\n",
       "Granularity            0\n",
       "dtype: int64"
      ]
     },
     "execution_count": 72,
     "metadata": {},
     "output_type": "execute_result"
    }
   ],
   "source": [
    "politicals.isna().sum()"
   ]
  },
  {
   "cell_type": "code",
   "execution_count": 73,
   "id": "037b56b2",
   "metadata": {},
   "outputs": [
    {
     "data": {
      "text/plain": [
       "0"
      ]
     },
     "execution_count": 73,
     "metadata": {},
     "output_type": "execute_result"
    }
   ],
   "source": [
    "politicals.duplicated().sum()"
   ]
  },
  {
   "cell_type": "code",
   "execution_count": 74,
   "id": "0e30fb6f",
   "metadata": {},
   "outputs": [
    {
     "data": {
      "text/plain": [
       "18"
      ]
     },
     "execution_count": 74,
     "metadata": {},
     "output_type": "execute_result"
    }
   ],
   "source": [
    "politicals['Year'].nunique()"
   ]
  },
  {
   "cell_type": "code",
   "execution_count": 75,
   "id": "d5537b83",
   "metadata": {},
   "outputs": [
    {
     "data": {
      "text/plain": [
       "200"
      ]
     },
     "execution_count": 75,
     "metadata": {},
     "output_type": "execute_result"
    }
   ],
   "source": [
    "politicals['Country'].nunique()"
   ]
  },
  {
   "cell_type": "code",
   "execution_count": 76,
   "id": "71631476",
   "metadata": {},
   "outputs": [
    {
     "data": {
      "text/plain": [
       "array(['Afghanistan', 'Albania', 'Algeria', 'American Samoa', 'Andorra',\n",
       "       'Angola', 'Antigua and Barbuda', 'Argentina', 'Armenia',\n",
       "       'Australia', 'Austria', 'Azerbaijan', 'Bahamas', 'Bahrain',\n",
       "       'Bangladesh', 'Barbados', 'Belarus', 'Belgium', 'Belize', 'Benin',\n",
       "       'Bermuda', 'Bhutan', 'Bolivia (Plurinational State of)',\n",
       "       'Bosnia and Herzegovina', 'Botswana', 'Brazil',\n",
       "       'Brunei Darussalam', 'Bulgaria', 'Burkina Faso', 'Burundi',\n",
       "       'Cabo Verde', 'Cambodia', 'Cameroon', 'Canada',\n",
       "       'Central African Republic', 'Chad', 'Chile',\n",
       "       'China, Hong Kong SAR', 'China, Macao SAR', 'China, mainland',\n",
       "       'China, Taiwan Province of', 'Colombia', 'Comoros', 'Congo',\n",
       "       'Cook Islands', 'Costa Rica', \"Côte d'Ivoire\", 'Croatia', 'Cuba',\n",
       "       'Cyprus', 'Czechia', \"Democratic People's Republic of Korea\",\n",
       "       'Democratic Republic of the Congo', 'Denmark', 'Djibouti',\n",
       "       'Dominica', 'Dominican Republic', 'Ecuador', 'Egypt',\n",
       "       'El Salvador', 'Equatorial Guinea', 'Eritrea', 'Estonia',\n",
       "       'Eswatini', 'Ethiopia', 'Fiji', 'Finland', 'France', 'Gabon',\n",
       "       'Gambia', 'Georgia', 'Germany', 'Ghana', 'Greece', 'Greenland',\n",
       "       'Grenada', 'Guatemala', 'Guinea', 'Guinea-Bissau', 'Guyana',\n",
       "       'Haiti', 'Honduras', 'Hungary', 'Iceland', 'India', 'Indonesia',\n",
       "       'Iran (Islamic Republic of)', 'Iraq', 'Ireland', 'Israel', 'Italy',\n",
       "       'Jamaica', 'Japan', 'Jordan', 'Kazakhstan', 'Kenya', 'Kiribati',\n",
       "       'Kuwait', 'Kyrgyzstan', \"Lao People's Democratic Republic\",\n",
       "       'Latvia', 'Lebanon', 'Lesotho', 'Liberia', 'Libya', 'Lithuania',\n",
       "       'Luxembourg', 'Madagascar', 'Malawi', 'Malaysia', 'Maldives',\n",
       "       'Mali', 'Malta', 'Marshall Islands', 'Mauritania', 'Mauritius',\n",
       "       'Mexico', 'Micronesia (Federated States of)', 'Mongolia',\n",
       "       'Montenegro', 'Morocco', 'Mozambique', 'Myanmar', 'Namibia',\n",
       "       'Nauru', 'Nepal', 'Netherlands', 'New Zealand', 'Nicaragua',\n",
       "       'Niger', 'Nigeria', 'Niue', 'North Macedonia', 'Norway', 'Oman',\n",
       "       'Pakistan', 'Palau', 'Palestine', 'Panama', 'Papua New Guinea',\n",
       "       'Paraguay', 'Peru', 'Philippines', 'Poland', 'Portugal',\n",
       "       'Puerto Rico', 'Qatar', 'Republic of Korea', 'Republic of Moldova',\n",
       "       'Romania', 'Russian Federation', 'Rwanda', 'Saint Kitts and Nevis',\n",
       "       'Saint Lucia', 'Saint Vincent and the Grenadines', 'Samoa',\n",
       "       'Sao Tome and Principe', 'Saudi Arabia', 'Senegal', 'Serbia',\n",
       "       'Seychelles', 'Sierra Leone', 'Singapore', 'Slovakia', 'Slovenia',\n",
       "       'Solomon Islands', 'Somalia', 'South Africa', 'South Sudan',\n",
       "       'Spain', 'Sri Lanka', 'Sudan', 'Suriname', 'Sweden', 'Switzerland',\n",
       "       'Syrian Arab Republic', 'Tajikistan', 'Thailand', 'Timor-Leste',\n",
       "       'Togo', 'Tonga', 'Trinidad and Tobago', 'Tunisia', 'Turkey',\n",
       "       'Turkmenistan', 'Tuvalu', 'Uganda', 'Ukraine',\n",
       "       'United Arab Emirates',\n",
       "       'United Kingdom of Great Britain and Northern Ireland',\n",
       "       'United Republic of Tanzania', 'United States of America',\n",
       "       'Uruguay', 'Uzbekistan', 'Vanuatu',\n",
       "       'Venezuela (Bolivarian Republic of)', 'Viet Nam', 'Yemen',\n",
       "       'Zambia', 'Zimbabwe'], dtype=object)"
      ]
     },
     "execution_count": 76,
     "metadata": {},
     "output_type": "execute_result"
    }
   ],
   "source": [
    "politicals['Country'].unique()"
   ]
  },
  {
   "cell_type": "code",
   "execution_count": 77,
   "id": "72aa7d60",
   "metadata": {},
   "outputs": [
    {
     "data": {
      "text/plain": [
       "1"
      ]
     },
     "execution_count": 77,
     "metadata": {},
     "output_type": "execute_result"
    }
   ],
   "source": [
    "politicals['Granularity'].nunique()"
   ]
  },
  {
   "cell_type": "code",
   "execution_count": 78,
   "id": "3f1f496c",
   "metadata": {},
   "outputs": [],
   "source": [
    "del politicals['Granularity']"
   ]
  },
  {
   "cell_type": "code",
   "execution_count": 79,
   "id": "f6e3cd11",
   "metadata": {},
   "outputs": [
    {
     "data": {
      "text/plain": [
       "array([2000, 2002, 2003, 2004, 2005, 2006, 2007, 2008, 2009, 2010, 2011,\n",
       "       2012, 2013, 2014, 2015, 2016, 2017, 2018], dtype=int64)"
      ]
     },
     "execution_count": 79,
     "metadata": {},
     "output_type": "execute_result"
    }
   ],
   "source": [
    "politicals['Year'].unique()"
   ]
  },
  {
   "cell_type": "code",
   "execution_count": 80,
   "id": "11393adc",
   "metadata": {},
   "outputs": [
    {
     "data": {
      "text/plain": [
       "count    3526.000000\n",
       "mean       -0.051044\n",
       "std         0.996039\n",
       "min        -3.310000\n",
       "25%        -0.710000\n",
       "50%         0.050000\n",
       "75%         0.797500\n",
       "max         1.970000\n",
       "Name: Political_Stability, dtype: float64"
      ]
     },
     "execution_count": 80,
     "metadata": {},
     "output_type": "execute_result"
    }
   ],
   "source": [
    "politicals['Political_Stability'].describe()"
   ]
  },
  {
   "cell_type": "code",
   "execution_count": 81,
   "id": "ec61c11a",
   "metadata": {},
   "outputs": [],
   "source": [
    "# Je remplace North Macedonia par Republic of North Macedonia\n",
    "politicals['Country'] = politicals['Country'].replace({'North Macedonia' :'Republic of North Macedonia'})"
   ]
  },
  {
   "cell_type": "code",
   "execution_count": 82,
   "id": "938f102a",
   "metadata": {},
   "outputs": [
    {
     "data": {
      "text/html": [
       "<div>\n",
       "<style scoped>\n",
       "    .dataframe tbody tr th:only-of-type {\n",
       "        vertical-align: middle;\n",
       "    }\n",
       "\n",
       "    .dataframe tbody tr th {\n",
       "        vertical-align: top;\n",
       "    }\n",
       "\n",
       "    .dataframe thead th {\n",
       "        text-align: right;\n",
       "    }\n",
       "</style>\n",
       "<table border=\"1\" class=\"dataframe\">\n",
       "  <thead>\n",
       "    <tr style=\"text-align: right;\">\n",
       "      <th></th>\n",
       "      <th>Country</th>\n",
       "      <th>Year</th>\n",
       "      <th>Political_Stability</th>\n",
       "    </tr>\n",
       "  </thead>\n",
       "  <tbody>\n",
       "    <tr>\n",
       "      <th>663</th>\n",
       "      <td>China, Hong Kong SAR</td>\n",
       "      <td>2000</td>\n",
       "      <td>0.93</td>\n",
       "    </tr>\n",
       "    <tr>\n",
       "      <th>664</th>\n",
       "      <td>China, Hong Kong SAR</td>\n",
       "      <td>2002</td>\n",
       "      <td>0.91</td>\n",
       "    </tr>\n",
       "    <tr>\n",
       "      <th>665</th>\n",
       "      <td>China, Hong Kong SAR</td>\n",
       "      <td>2003</td>\n",
       "      <td>0.95</td>\n",
       "    </tr>\n",
       "    <tr>\n",
       "      <th>666</th>\n",
       "      <td>China, Hong Kong SAR</td>\n",
       "      <td>2004</td>\n",
       "      <td>1.15</td>\n",
       "    </tr>\n",
       "    <tr>\n",
       "      <th>667</th>\n",
       "      <td>China, Hong Kong SAR</td>\n",
       "      <td>2005</td>\n",
       "      <td>1.34</td>\n",
       "    </tr>\n",
       "    <tr>\n",
       "      <th>...</th>\n",
       "      <td>...</td>\n",
       "      <td>...</td>\n",
       "      <td>...</td>\n",
       "    </tr>\n",
       "    <tr>\n",
       "      <th>730</th>\n",
       "      <td>China, Taiwan Province of</td>\n",
       "      <td>2014</td>\n",
       "      <td>0.77</td>\n",
       "    </tr>\n",
       "    <tr>\n",
       "      <th>731</th>\n",
       "      <td>China, Taiwan Province of</td>\n",
       "      <td>2015</td>\n",
       "      <td>0.92</td>\n",
       "    </tr>\n",
       "    <tr>\n",
       "      <th>732</th>\n",
       "      <td>China, Taiwan Province of</td>\n",
       "      <td>2016</td>\n",
       "      <td>0.93</td>\n",
       "    </tr>\n",
       "    <tr>\n",
       "      <th>733</th>\n",
       "      <td>China, Taiwan Province of</td>\n",
       "      <td>2017</td>\n",
       "      <td>0.86</td>\n",
       "    </tr>\n",
       "    <tr>\n",
       "      <th>734</th>\n",
       "      <td>China, Taiwan Province of</td>\n",
       "      <td>2018</td>\n",
       "      <td>0.85</td>\n",
       "    </tr>\n",
       "  </tbody>\n",
       "</table>\n",
       "<p>72 rows × 3 columns</p>\n",
       "</div>"
      ],
      "text/plain": [
       "                       Country  Year  Political_Stability\n",
       "663       China, Hong Kong SAR  2000                 0.93\n",
       "664       China, Hong Kong SAR  2002                 0.91\n",
       "665       China, Hong Kong SAR  2003                 0.95\n",
       "666       China, Hong Kong SAR  2004                 1.15\n",
       "667       China, Hong Kong SAR  2005                 1.34\n",
       "..                         ...   ...                  ...\n",
       "730  China, Taiwan Province of  2014                 0.77\n",
       "731  China, Taiwan Province of  2015                 0.92\n",
       "732  China, Taiwan Province of  2016                 0.93\n",
       "733  China, Taiwan Province of  2017                 0.86\n",
       "734  China, Taiwan Province of  2018                 0.85\n",
       "\n",
       "[72 rows x 3 columns]"
      ]
     },
     "execution_count": 82,
     "metadata": {},
     "output_type": "execute_result"
    }
   ],
   "source": [
    "# Je filtre les données de la Chine et ses provinces\n",
    "politicals_chine = politicals.loc[politicals['Country'].str.contains('China', case=False)]\n",
    "politicals_chine"
   ]
  },
  {
   "cell_type": "code",
   "execution_count": 83,
   "id": "75479bf0",
   "metadata": {},
   "outputs": [
    {
     "data": {
      "text/plain": [
       "Country                 4\n",
       "Year                   18\n",
       "Political_Stability    57\n",
       "dtype: int64"
      ]
     },
     "execution_count": 83,
     "metadata": {},
     "output_type": "execute_result"
    }
   ],
   "source": [
    "politicals_chine.nunique()"
   ]
  },
  {
   "cell_type": "code",
   "execution_count": 84,
   "id": "ab23bfaf",
   "metadata": {},
   "outputs": [
    {
     "data": {
      "text/plain": [
       "Year\n",
       "2000    0.4375\n",
       "2002    0.4575\n",
       "2003    0.5375\n",
       "2004    0.6800\n",
       "2005    0.7000\n",
       "2006    0.5750\n",
       "2007    0.4025\n",
       "2008    0.4900\n",
       "2009    0.4250\n",
       "2010    0.4275\n",
       "2011    0.4775\n",
       "2012    0.4975\n",
       "2013    0.5025\n",
       "2014    0.6525\n",
       "2015    0.6550\n",
       "2016    0.6500\n",
       "2017    0.7225\n",
       "2018    0.6600\n",
       "Name: Political_Stability, dtype: float64"
      ]
     },
     "execution_count": 84,
     "metadata": {},
     "output_type": "execute_result"
    }
   ],
   "source": [
    "# Je groupe les données par année et je calcule la moyenne de la stabilité politique\n",
    "mean_stability = politicals_chine.groupby('Year')['Political_Stability'].mean()\n",
    "mean_stability"
   ]
  },
  {
   "cell_type": "code",
   "execution_count": 85,
   "id": "3f8a2a14",
   "metadata": {},
   "outputs": [],
   "source": [
    "# Je crée le df China pour supprimer les provences \n",
    "China = pd.DataFrame({'Country':['China','China','China','China','China','China','China','China','China','China','China','China','China','China','China','China','China','China'],\n",
    "                      'Year':[2000,2002,2003,2004,2005,2006,2007,2008,2009,2010,2011,2012,2013,2014,2015,2016,2017,2018],\n",
    "                      'Political_Stability':[0.4375,0.4575,0.5375,0.6800,0.7000,0.5750,0.4025,0.4900,0.4250,0.4275,0.4775,0.4975,0.5025,0.6525,0.6550,0.6500,0.7225,0.6600]\n",
    "                     })"
   ]
  },
  {
   "cell_type": "code",
   "execution_count": 86,
   "id": "bd71ba46",
   "metadata": {},
   "outputs": [
    {
     "data": {
      "text/html": [
       "<div>\n",
       "<style scoped>\n",
       "    .dataframe tbody tr th:only-of-type {\n",
       "        vertical-align: middle;\n",
       "    }\n",
       "\n",
       "    .dataframe tbody tr th {\n",
       "        vertical-align: top;\n",
       "    }\n",
       "\n",
       "    .dataframe thead th {\n",
       "        text-align: right;\n",
       "    }\n",
       "</style>\n",
       "<table border=\"1\" class=\"dataframe\">\n",
       "  <thead>\n",
       "    <tr style=\"text-align: right;\">\n",
       "      <th></th>\n",
       "      <th>Country</th>\n",
       "      <th>Year</th>\n",
       "      <th>Political_Stability</th>\n",
       "    </tr>\n",
       "  </thead>\n",
       "  <tbody>\n",
       "    <tr>\n",
       "      <th>0</th>\n",
       "      <td>China</td>\n",
       "      <td>2000</td>\n",
       "      <td>0.4375</td>\n",
       "    </tr>\n",
       "    <tr>\n",
       "      <th>1</th>\n",
       "      <td>China</td>\n",
       "      <td>2002</td>\n",
       "      <td>0.4575</td>\n",
       "    </tr>\n",
       "    <tr>\n",
       "      <th>2</th>\n",
       "      <td>China</td>\n",
       "      <td>2003</td>\n",
       "      <td>0.5375</td>\n",
       "    </tr>\n",
       "    <tr>\n",
       "      <th>3</th>\n",
       "      <td>China</td>\n",
       "      <td>2004</td>\n",
       "      <td>0.6800</td>\n",
       "    </tr>\n",
       "    <tr>\n",
       "      <th>4</th>\n",
       "      <td>China</td>\n",
       "      <td>2005</td>\n",
       "      <td>0.7000</td>\n",
       "    </tr>\n",
       "  </tbody>\n",
       "</table>\n",
       "</div>"
      ],
      "text/plain": [
       "  Country  Year  Political_Stability\n",
       "0   China  2000               0.4375\n",
       "1   China  2002               0.4575\n",
       "2   China  2003               0.5375\n",
       "3   China  2004               0.6800\n",
       "4   China  2005               0.7000"
      ]
     },
     "execution_count": 86,
     "metadata": {},
     "output_type": "execute_result"
    }
   ],
   "source": [
    "China.head()"
   ]
  },
  {
   "cell_type": "code",
   "execution_count": 87,
   "id": "646a855f",
   "metadata": {},
   "outputs": [
    {
     "data": {
      "text/html": [
       "<div>\n",
       "<style scoped>\n",
       "    .dataframe tbody tr th:only-of-type {\n",
       "        vertical-align: middle;\n",
       "    }\n",
       "\n",
       "    .dataframe tbody tr th {\n",
       "        vertical-align: top;\n",
       "    }\n",
       "\n",
       "    .dataframe thead th {\n",
       "        text-align: right;\n",
       "    }\n",
       "</style>\n",
       "<table border=\"1\" class=\"dataframe\">\n",
       "  <thead>\n",
       "    <tr style=\"text-align: right;\">\n",
       "      <th></th>\n",
       "      <th>Country</th>\n",
       "      <th>Year</th>\n",
       "      <th>Political_Stability</th>\n",
       "    </tr>\n",
       "  </thead>\n",
       "  <tbody>\n",
       "    <tr>\n",
       "      <th>0</th>\n",
       "      <td>Afghanistan</td>\n",
       "      <td>2000</td>\n",
       "      <td>-2.44</td>\n",
       "    </tr>\n",
       "    <tr>\n",
       "      <th>1</th>\n",
       "      <td>Afghanistan</td>\n",
       "      <td>2002</td>\n",
       "      <td>-2.04</td>\n",
       "    </tr>\n",
       "    <tr>\n",
       "      <th>2</th>\n",
       "      <td>Afghanistan</td>\n",
       "      <td>2003</td>\n",
       "      <td>-2.20</td>\n",
       "    </tr>\n",
       "    <tr>\n",
       "      <th>3</th>\n",
       "      <td>Afghanistan</td>\n",
       "      <td>2004</td>\n",
       "      <td>-2.30</td>\n",
       "    </tr>\n",
       "    <tr>\n",
       "      <th>4</th>\n",
       "      <td>Afghanistan</td>\n",
       "      <td>2005</td>\n",
       "      <td>-2.07</td>\n",
       "    </tr>\n",
       "  </tbody>\n",
       "</table>\n",
       "</div>"
      ],
      "text/plain": [
       "       Country  Year  Political_Stability\n",
       "0  Afghanistan  2000                -2.44\n",
       "1  Afghanistan  2002                -2.04\n",
       "2  Afghanistan  2003                -2.20\n",
       "3  Afghanistan  2004                -2.30\n",
       "4  Afghanistan  2005                -2.07"
      ]
     },
     "execution_count": 87,
     "metadata": {},
     "output_type": "execute_result"
    }
   ],
   "source": [
    "# J'ajoute le df China et au df politicals pour obtenir le df final de la stabilité politique\n",
    "stability = pd.concat([politicals, China], ignore_index=True)\n",
    "stability.head()"
   ]
  },
  {
   "cell_type": "code",
   "execution_count": 88,
   "id": "c9807de1",
   "metadata": {},
   "outputs": [],
   "source": [
    "# J'utilise la liste des pays à supprimer créee ci-dessus\n",
    "stability = stability[~stability['Country'].isin(pays_a_supprimer)]"
   ]
  },
  {
   "cell_type": "code",
   "execution_count": 89,
   "id": "09d855fc",
   "metadata": {},
   "outputs": [
    {
     "data": {
      "text/plain": [
       "197"
      ]
     },
     "execution_count": 89,
     "metadata": {},
     "output_type": "execute_result"
    }
   ],
   "source": [
    "stability['Country'].nunique()"
   ]
  },
  {
   "cell_type": "markdown",
   "id": "bf3c0827",
   "metadata": {},
   "source": [
    "### 3.4 Mortalité"
   ]
  },
  {
   "cell_type": "code",
   "execution_count": 90,
   "id": "726240ef",
   "metadata": {},
   "outputs": [
    {
     "data": {
      "text/html": [
       "<div>\n",
       "<style scoped>\n",
       "    .dataframe tbody tr th:only-of-type {\n",
       "        vertical-align: middle;\n",
       "    }\n",
       "\n",
       "    .dataframe tbody tr th {\n",
       "        vertical-align: top;\n",
       "    }\n",
       "\n",
       "    .dataframe thead th {\n",
       "        text-align: right;\n",
       "    }\n",
       "</style>\n",
       "<table border=\"1\" class=\"dataframe\">\n",
       "  <thead>\n",
       "    <tr style=\"text-align: right;\">\n",
       "      <th></th>\n",
       "      <th>Year</th>\n",
       "      <th>Country</th>\n",
       "      <th>Granularity</th>\n",
       "      <th>Mortality rate attributed to exposure to unsafe WASH services</th>\n",
       "      <th>WASH deaths</th>\n",
       "    </tr>\n",
       "  </thead>\n",
       "  <tbody>\n",
       "    <tr>\n",
       "      <th>0</th>\n",
       "      <td>2016</td>\n",
       "      <td>Afghanistan</td>\n",
       "      <td>Female</td>\n",
       "      <td>15.31193</td>\n",
       "      <td>NaN</td>\n",
       "    </tr>\n",
       "    <tr>\n",
       "      <th>1</th>\n",
       "      <td>2016</td>\n",
       "      <td>Afghanistan</td>\n",
       "      <td>Male</td>\n",
       "      <td>12.61297</td>\n",
       "      <td>NaN</td>\n",
       "    </tr>\n",
       "    <tr>\n",
       "      <th>2</th>\n",
       "      <td>2016</td>\n",
       "      <td>Afghanistan</td>\n",
       "      <td>Total</td>\n",
       "      <td>13.92067</td>\n",
       "      <td>4824.35300</td>\n",
       "    </tr>\n",
       "    <tr>\n",
       "      <th>3</th>\n",
       "      <td>2016</td>\n",
       "      <td>Albania</td>\n",
       "      <td>Female</td>\n",
       "      <td>0.12552</td>\n",
       "      <td>NaN</td>\n",
       "    </tr>\n",
       "    <tr>\n",
       "      <th>4</th>\n",
       "      <td>2016</td>\n",
       "      <td>Albania</td>\n",
       "      <td>Male</td>\n",
       "      <td>0.20650</td>\n",
       "      <td>NaN</td>\n",
       "    </tr>\n",
       "    <tr>\n",
       "      <th>5</th>\n",
       "      <td>2016</td>\n",
       "      <td>Albania</td>\n",
       "      <td>Total</td>\n",
       "      <td>0.16641</td>\n",
       "      <td>4.86975</td>\n",
       "    </tr>\n",
       "    <tr>\n",
       "      <th>6</th>\n",
       "      <td>2016</td>\n",
       "      <td>Algeria</td>\n",
       "      <td>Female</td>\n",
       "      <td>2.19890</td>\n",
       "      <td>NaN</td>\n",
       "    </tr>\n",
       "    <tr>\n",
       "      <th>7</th>\n",
       "      <td>2016</td>\n",
       "      <td>Algeria</td>\n",
       "      <td>Male</td>\n",
       "      <td>1.72837</td>\n",
       "      <td>NaN</td>\n",
       "    </tr>\n",
       "    <tr>\n",
       "      <th>8</th>\n",
       "      <td>2016</td>\n",
       "      <td>Algeria</td>\n",
       "      <td>Total</td>\n",
       "      <td>1.86723</td>\n",
       "      <td>758.21000</td>\n",
       "    </tr>\n",
       "    <tr>\n",
       "      <th>9</th>\n",
       "      <td>2016</td>\n",
       "      <td>Angola</td>\n",
       "      <td>Female</td>\n",
       "      <td>45.15024</td>\n",
       "      <td>NaN</td>\n",
       "    </tr>\n",
       "  </tbody>\n",
       "</table>\n",
       "</div>"
      ],
      "text/plain": [
       "   Year      Country Granularity  \\\n",
       "0  2016  Afghanistan      Female   \n",
       "1  2016  Afghanistan        Male   \n",
       "2  2016  Afghanistan       Total   \n",
       "3  2016      Albania      Female   \n",
       "4  2016      Albania        Male   \n",
       "5  2016      Albania       Total   \n",
       "6  2016      Algeria      Female   \n",
       "7  2016      Algeria        Male   \n",
       "8  2016      Algeria       Total   \n",
       "9  2016       Angola      Female   \n",
       "\n",
       "   Mortality rate attributed to exposure to unsafe WASH services  WASH deaths  \n",
       "0                                           15.31193                      NaN  \n",
       "1                                           12.61297                      NaN  \n",
       "2                                           13.92067               4824.35300  \n",
       "3                                            0.12552                      NaN  \n",
       "4                                            0.20650                      NaN  \n",
       "5                                            0.16641                  4.86975  \n",
       "6                                            2.19890                      NaN  \n",
       "7                                            1.72837                      NaN  \n",
       "8                                            1.86723                758.21000  \n",
       "9                                           45.15024                      NaN  "
      ]
     },
     "execution_count": 90,
     "metadata": {},
     "output_type": "execute_result"
    }
   ],
   "source": [
    "mortality.head(10)"
   ]
  },
  {
   "cell_type": "code",
   "execution_count": 91,
   "id": "46424005",
   "metadata": {},
   "outputs": [
    {
     "name": "stdout",
     "output_type": "stream",
     "text": [
      "<class 'pandas.core.frame.DataFrame'>\n",
      "RangeIndex: 549 entries, 0 to 548\n",
      "Data columns (total 5 columns):\n",
      " #   Column                                                         Non-Null Count  Dtype  \n",
      "---  ------                                                         --------------  -----  \n",
      " 0   Year                                                           549 non-null    int64  \n",
      " 1   Country                                                        549 non-null    object \n",
      " 2   Granularity                                                    549 non-null    object \n",
      " 3   Mortality rate attributed to exposure to unsafe WASH services  549 non-null    float64\n",
      " 4   WASH deaths                                                    183 non-null    float64\n",
      "dtypes: float64(2), int64(1), object(2)\n",
      "memory usage: 21.6+ KB\n"
     ]
    }
   ],
   "source": [
    "mortality.info()"
   ]
  },
  {
   "cell_type": "code",
   "execution_count": 92,
   "id": "aed37ee3",
   "metadata": {},
   "outputs": [
    {
     "data": {
      "text/plain": [
       "0"
      ]
     },
     "execution_count": 92,
     "metadata": {},
     "output_type": "execute_result"
    }
   ],
   "source": [
    "mortality.duplicated().sum()"
   ]
  },
  {
   "cell_type": "code",
   "execution_count": 93,
   "id": "ad55c53a",
   "metadata": {},
   "outputs": [
    {
     "data": {
      "text/plain": [
       "Year                                                               0\n",
       "Country                                                            0\n",
       "Granularity                                                        0\n",
       "Mortality rate attributed to exposure to unsafe WASH services      0\n",
       "WASH deaths                                                      366\n",
       "dtype: int64"
      ]
     },
     "execution_count": 93,
     "metadata": {},
     "output_type": "execute_result"
    }
   ],
   "source": [
    "mortality.isna().sum()"
   ]
  },
  {
   "cell_type": "code",
   "execution_count": 94,
   "id": "3573d4fd",
   "metadata": {},
   "outputs": [],
   "source": [
    "mortality['WASH deaths'] = mortality['WASH deaths'].fillna(0) \n",
    "# Les 0 à ne pas commenter  "
   ]
  },
  {
   "cell_type": "code",
   "execution_count": 95,
   "id": "25f28239",
   "metadata": {},
   "outputs": [
    {
     "data": {
      "text/plain": [
       "183"
      ]
     },
     "execution_count": 95,
     "metadata": {},
     "output_type": "execute_result"
    }
   ],
   "source": [
    "mortality['Country'].nunique()"
   ]
  },
  {
   "cell_type": "code",
   "execution_count": 96,
   "id": "4b11d7e4",
   "metadata": {},
   "outputs": [
    {
     "data": {
      "text/plain": [
       "1"
      ]
     },
     "execution_count": 96,
     "metadata": {},
     "output_type": "execute_result"
    }
   ],
   "source": [
    "mortality['Year'].nunique()"
   ]
  },
  {
   "cell_type": "code",
   "execution_count": 97,
   "id": "f91b1201",
   "metadata": {},
   "outputs": [
    {
     "data": {
      "text/plain": [
       "3"
      ]
     },
     "execution_count": 97,
     "metadata": {},
     "output_type": "execute_result"
    }
   ],
   "source": [
    "mortality['Granularity'].nunique()"
   ]
  },
  {
   "cell_type": "code",
   "execution_count": 98,
   "id": "2d38a889",
   "metadata": {},
   "outputs": [],
   "source": [
    "# Je crée les df mortality par granularité \n",
    "# je crée le df mortality total\n",
    "morta_total = mortality.loc[mortality['Granularity'] == 'Total',:].copy()"
   ]
  },
  {
   "cell_type": "code",
   "execution_count": 99,
   "id": "7073964b",
   "metadata": {},
   "outputs": [
    {
     "data": {
      "text/html": [
       "<div>\n",
       "<style scoped>\n",
       "    .dataframe tbody tr th:only-of-type {\n",
       "        vertical-align: middle;\n",
       "    }\n",
       "\n",
       "    .dataframe tbody tr th {\n",
       "        vertical-align: top;\n",
       "    }\n",
       "\n",
       "    .dataframe thead th {\n",
       "        text-align: right;\n",
       "    }\n",
       "</style>\n",
       "<table border=\"1\" class=\"dataframe\">\n",
       "  <thead>\n",
       "    <tr style=\"text-align: right;\">\n",
       "      <th></th>\n",
       "      <th>Year</th>\n",
       "      <th>Country</th>\n",
       "      <th>Granularity</th>\n",
       "      <th>Total mortality rate per 100000 pop</th>\n",
       "      <th>Total wash deaths</th>\n",
       "    </tr>\n",
       "  </thead>\n",
       "  <tbody>\n",
       "    <tr>\n",
       "      <th>2</th>\n",
       "      <td>2016</td>\n",
       "      <td>Afghanistan</td>\n",
       "      <td>Total</td>\n",
       "      <td>13.92067</td>\n",
       "      <td>4824.35300</td>\n",
       "    </tr>\n",
       "    <tr>\n",
       "      <th>5</th>\n",
       "      <td>2016</td>\n",
       "      <td>Albania</td>\n",
       "      <td>Total</td>\n",
       "      <td>0.16641</td>\n",
       "      <td>4.86975</td>\n",
       "    </tr>\n",
       "    <tr>\n",
       "      <th>8</th>\n",
       "      <td>2016</td>\n",
       "      <td>Algeria</td>\n",
       "      <td>Total</td>\n",
       "      <td>1.86723</td>\n",
       "      <td>758.21000</td>\n",
       "    </tr>\n",
       "    <tr>\n",
       "      <th>11</th>\n",
       "      <td>2016</td>\n",
       "      <td>Angola</td>\n",
       "      <td>Total</td>\n",
       "      <td>48.81467</td>\n",
       "      <td>14065.20000</td>\n",
       "    </tr>\n",
       "    <tr>\n",
       "      <th>14</th>\n",
       "      <td>2016</td>\n",
       "      <td>Antigua and Barbuda</td>\n",
       "      <td>Total</td>\n",
       "      <td>0.11403</td>\n",
       "      <td>0.11513</td>\n",
       "    </tr>\n",
       "  </tbody>\n",
       "</table>\n",
       "</div>"
      ],
      "text/plain": [
       "    Year              Country Granularity  \\\n",
       "2   2016          Afghanistan       Total   \n",
       "5   2016              Albania       Total   \n",
       "8   2016              Algeria       Total   \n",
       "11  2016               Angola       Total   \n",
       "14  2016  Antigua and Barbuda       Total   \n",
       "\n",
       "     Total mortality rate per 100000 pop  Total wash deaths  \n",
       "2                               13.92067         4824.35300  \n",
       "5                                0.16641            4.86975  \n",
       "8                                1.86723          758.21000  \n",
       "11                              48.81467        14065.20000  \n",
       "14                               0.11403            0.11513  "
      ]
     },
     "execution_count": 99,
     "metadata": {},
     "output_type": "execute_result"
    }
   ],
   "source": [
    "morta_total.rename(columns ={'Mortality rate attributed to exposure to unsafe WASH services':' Total mortality rate per 100000 pop',\n",
    "                            'WASH deaths': 'Total wash deaths'}, inplace=True)\n",
    "morta_total.head()"
   ]
  },
  {
   "cell_type": "code",
   "execution_count": 100,
   "id": "b8993248",
   "metadata": {},
   "outputs": [],
   "source": [
    "del morta_total['Granularity']"
   ]
  },
  {
   "cell_type": "code",
   "execution_count": 101,
   "id": "c74be8c0",
   "metadata": {},
   "outputs": [],
   "source": [
    "# je crée le df mortality female\n",
    "morta_female = mortality.loc[mortality['Granularity'] == 'Female',:].copy()"
   ]
  },
  {
   "cell_type": "code",
   "execution_count": 102,
   "id": "b22990b4",
   "metadata": {},
   "outputs": [
    {
     "data": {
      "text/html": [
       "<div>\n",
       "<style scoped>\n",
       "    .dataframe tbody tr th:only-of-type {\n",
       "        vertical-align: middle;\n",
       "    }\n",
       "\n",
       "    .dataframe tbody tr th {\n",
       "        vertical-align: top;\n",
       "    }\n",
       "\n",
       "    .dataframe thead th {\n",
       "        text-align: right;\n",
       "    }\n",
       "</style>\n",
       "<table border=\"1\" class=\"dataframe\">\n",
       "  <thead>\n",
       "    <tr style=\"text-align: right;\">\n",
       "      <th></th>\n",
       "      <th>Year</th>\n",
       "      <th>Country</th>\n",
       "      <th>Granularity</th>\n",
       "      <th>Female mortality rate per 100000 pop</th>\n",
       "      <th>Female wash deaths</th>\n",
       "    </tr>\n",
       "  </thead>\n",
       "  <tbody>\n",
       "    <tr>\n",
       "      <th>0</th>\n",
       "      <td>2016</td>\n",
       "      <td>Afghanistan</td>\n",
       "      <td>Female</td>\n",
       "      <td>15.31193</td>\n",
       "      <td>0.0</td>\n",
       "    </tr>\n",
       "    <tr>\n",
       "      <th>3</th>\n",
       "      <td>2016</td>\n",
       "      <td>Albania</td>\n",
       "      <td>Female</td>\n",
       "      <td>0.12552</td>\n",
       "      <td>0.0</td>\n",
       "    </tr>\n",
       "    <tr>\n",
       "      <th>6</th>\n",
       "      <td>2016</td>\n",
       "      <td>Algeria</td>\n",
       "      <td>Female</td>\n",
       "      <td>2.19890</td>\n",
       "      <td>0.0</td>\n",
       "    </tr>\n",
       "    <tr>\n",
       "      <th>9</th>\n",
       "      <td>2016</td>\n",
       "      <td>Angola</td>\n",
       "      <td>Female</td>\n",
       "      <td>45.15024</td>\n",
       "      <td>0.0</td>\n",
       "    </tr>\n",
       "    <tr>\n",
       "      <th>12</th>\n",
       "      <td>2016</td>\n",
       "      <td>Antigua and Barbuda</td>\n",
       "      <td>Female</td>\n",
       "      <td>0.10419</td>\n",
       "      <td>0.0</td>\n",
       "    </tr>\n",
       "  </tbody>\n",
       "</table>\n",
       "</div>"
      ],
      "text/plain": [
       "    Year              Country Granularity  \\\n",
       "0   2016          Afghanistan      Female   \n",
       "3   2016              Albania      Female   \n",
       "6   2016              Algeria      Female   \n",
       "9   2016               Angola      Female   \n",
       "12  2016  Antigua and Barbuda      Female   \n",
       "\n",
       "    Female mortality rate per 100000 pop  Female wash deaths   \n",
       "0                               15.31193                  0.0  \n",
       "3                                0.12552                  0.0  \n",
       "6                                2.19890                  0.0  \n",
       "9                               45.15024                  0.0  \n",
       "12                               0.10419                  0.0  "
      ]
     },
     "execution_count": 102,
     "metadata": {},
     "output_type": "execute_result"
    }
   ],
   "source": [
    "morta_female.rename(columns ={'Mortality rate attributed to exposure to unsafe WASH services':'Female mortality rate per 100000 pop',\n",
    "                            'WASH deaths':'Female wash deaths '}, inplace=True)\n",
    "morta_female.head()"
   ]
  },
  {
   "cell_type": "code",
   "execution_count": 103,
   "id": "633d9447",
   "metadata": {},
   "outputs": [],
   "source": [
    "del morta_female['Granularity']"
   ]
  },
  {
   "cell_type": "code",
   "execution_count": 104,
   "id": "f161e4b0",
   "metadata": {},
   "outputs": [],
   "source": [
    "# je crée le df mortality male\n",
    "morta_male = mortality.loc[mortality['Granularity'] == 'Male',:].copy()"
   ]
  },
  {
   "cell_type": "code",
   "execution_count": 105,
   "id": "6578dbf7",
   "metadata": {},
   "outputs": [
    {
     "data": {
      "text/html": [
       "<div>\n",
       "<style scoped>\n",
       "    .dataframe tbody tr th:only-of-type {\n",
       "        vertical-align: middle;\n",
       "    }\n",
       "\n",
       "    .dataframe tbody tr th {\n",
       "        vertical-align: top;\n",
       "    }\n",
       "\n",
       "    .dataframe thead th {\n",
       "        text-align: right;\n",
       "    }\n",
       "</style>\n",
       "<table border=\"1\" class=\"dataframe\">\n",
       "  <thead>\n",
       "    <tr style=\"text-align: right;\">\n",
       "      <th></th>\n",
       "      <th>Year</th>\n",
       "      <th>Country</th>\n",
       "      <th>Granularity</th>\n",
       "      <th>Male mortality rate per 100000 pop</th>\n",
       "      <th>Male wash deaths</th>\n",
       "    </tr>\n",
       "  </thead>\n",
       "  <tbody>\n",
       "    <tr>\n",
       "      <th>1</th>\n",
       "      <td>2016</td>\n",
       "      <td>Afghanistan</td>\n",
       "      <td>Male</td>\n",
       "      <td>12.61297</td>\n",
       "      <td>0.0</td>\n",
       "    </tr>\n",
       "    <tr>\n",
       "      <th>4</th>\n",
       "      <td>2016</td>\n",
       "      <td>Albania</td>\n",
       "      <td>Male</td>\n",
       "      <td>0.20650</td>\n",
       "      <td>0.0</td>\n",
       "    </tr>\n",
       "    <tr>\n",
       "      <th>7</th>\n",
       "      <td>2016</td>\n",
       "      <td>Algeria</td>\n",
       "      <td>Male</td>\n",
       "      <td>1.72837</td>\n",
       "      <td>0.0</td>\n",
       "    </tr>\n",
       "    <tr>\n",
       "      <th>10</th>\n",
       "      <td>2016</td>\n",
       "      <td>Angola</td>\n",
       "      <td>Male</td>\n",
       "      <td>52.62506</td>\n",
       "      <td>0.0</td>\n",
       "    </tr>\n",
       "    <tr>\n",
       "      <th>13</th>\n",
       "      <td>2016</td>\n",
       "      <td>Antigua and Barbuda</td>\n",
       "      <td>Male</td>\n",
       "      <td>0.12469</td>\n",
       "      <td>0.0</td>\n",
       "    </tr>\n",
       "  </tbody>\n",
       "</table>\n",
       "</div>"
      ],
      "text/plain": [
       "    Year              Country Granularity  Male mortality rate per 100000 pop  \\\n",
       "1   2016          Afghanistan        Male                            12.61297   \n",
       "4   2016              Albania        Male                             0.20650   \n",
       "7   2016              Algeria        Male                             1.72837   \n",
       "10  2016               Angola        Male                            52.62506   \n",
       "13  2016  Antigua and Barbuda        Male                             0.12469   \n",
       "\n",
       "    Male wash deaths   \n",
       "1                 0.0  \n",
       "4                 0.0  \n",
       "7                 0.0  \n",
       "10                0.0  \n",
       "13                0.0  "
      ]
     },
     "execution_count": 105,
     "metadata": {},
     "output_type": "execute_result"
    }
   ],
   "source": [
    "morta_male.rename(columns ={'Mortality rate attributed to exposure to unsafe WASH services':'Male mortality rate per 100000 pop',\n",
    "                            'WASH deaths':'Male wash deaths '}, inplace=True)\n",
    "morta_male.head()"
   ]
  },
  {
   "cell_type": "code",
   "execution_count": 106,
   "id": "7edbc2e2",
   "metadata": {},
   "outputs": [],
   "source": [
    "del morta_male['Granularity']"
   ]
  },
  {
   "cell_type": "code",
   "execution_count": 107,
   "id": "f0622d5a",
   "metadata": {},
   "outputs": [
    {
     "data": {
      "text/html": [
       "<div>\n",
       "<style scoped>\n",
       "    .dataframe tbody tr th:only-of-type {\n",
       "        vertical-align: middle;\n",
       "    }\n",
       "\n",
       "    .dataframe tbody tr th {\n",
       "        vertical-align: top;\n",
       "    }\n",
       "\n",
       "    .dataframe thead th {\n",
       "        text-align: right;\n",
       "    }\n",
       "</style>\n",
       "<table border=\"1\" class=\"dataframe\">\n",
       "  <thead>\n",
       "    <tr style=\"text-align: right;\">\n",
       "      <th></th>\n",
       "      <th>Year</th>\n",
       "      <th>Country</th>\n",
       "      <th>Female mortality rate per 100000 pop</th>\n",
       "      <th>Female wash deaths</th>\n",
       "      <th>Male mortality rate per 100000 pop</th>\n",
       "      <th>Male wash deaths</th>\n",
       "      <th>_merge</th>\n",
       "    </tr>\n",
       "  </thead>\n",
       "  <tbody>\n",
       "    <tr>\n",
       "      <th>0</th>\n",
       "      <td>2016</td>\n",
       "      <td>Afghanistan</td>\n",
       "      <td>15.31193</td>\n",
       "      <td>0.0</td>\n",
       "      <td>12.61297</td>\n",
       "      <td>0.0</td>\n",
       "      <td>both</td>\n",
       "    </tr>\n",
       "    <tr>\n",
       "      <th>1</th>\n",
       "      <td>2016</td>\n",
       "      <td>Albania</td>\n",
       "      <td>0.12552</td>\n",
       "      <td>0.0</td>\n",
       "      <td>0.20650</td>\n",
       "      <td>0.0</td>\n",
       "      <td>both</td>\n",
       "    </tr>\n",
       "    <tr>\n",
       "      <th>2</th>\n",
       "      <td>2016</td>\n",
       "      <td>Algeria</td>\n",
       "      <td>2.19890</td>\n",
       "      <td>0.0</td>\n",
       "      <td>1.72837</td>\n",
       "      <td>0.0</td>\n",
       "      <td>both</td>\n",
       "    </tr>\n",
       "    <tr>\n",
       "      <th>3</th>\n",
       "      <td>2016</td>\n",
       "      <td>Angola</td>\n",
       "      <td>45.15024</td>\n",
       "      <td>0.0</td>\n",
       "      <td>52.62506</td>\n",
       "      <td>0.0</td>\n",
       "      <td>both</td>\n",
       "    </tr>\n",
       "    <tr>\n",
       "      <th>4</th>\n",
       "      <td>2016</td>\n",
       "      <td>Antigua and Barbuda</td>\n",
       "      <td>0.10419</td>\n",
       "      <td>0.0</td>\n",
       "      <td>0.12469</td>\n",
       "      <td>0.0</td>\n",
       "      <td>both</td>\n",
       "    </tr>\n",
       "  </tbody>\n",
       "</table>\n",
       "</div>"
      ],
      "text/plain": [
       "   Year              Country  Female mortality rate per 100000 pop  \\\n",
       "0  2016          Afghanistan                              15.31193   \n",
       "1  2016              Albania                               0.12552   \n",
       "2  2016              Algeria                               2.19890   \n",
       "3  2016               Angola                              45.15024   \n",
       "4  2016  Antigua and Barbuda                               0.10419   \n",
       "\n",
       "   Female wash deaths   Male mortality rate per 100000 pop  Male wash deaths   \\\n",
       "0                  0.0                            12.61297                0.0   \n",
       "1                  0.0                             0.20650                0.0   \n",
       "2                  0.0                             1.72837                0.0   \n",
       "3                  0.0                            52.62506                0.0   \n",
       "4                  0.0                             0.12469                0.0   \n",
       "\n",
       "  _merge  \n",
       "0   both  \n",
       "1   both  \n",
       "2   both  \n",
       "3   both  \n",
       "4   both  "
      ]
     },
     "execution_count": 107,
     "metadata": {},
     "output_type": "execute_result"
    }
   ],
   "source": [
    "# Je joins mes 3 df pour avoir mon df motality final\n",
    "# JOINTURE 1 - Je joins le df mortal_female au df morta_male \n",
    "morta_s = pd.merge(morta_female, morta_male, on=['Country', 'Year'], how='inner',  indicator= True)\n",
    "morta_s.head()"
   ]
  },
  {
   "cell_type": "code",
   "execution_count": 108,
   "id": "c95c6dc5",
   "metadata": {},
   "outputs": [],
   "source": [
    "# Je supprime l'indicator après analyse pour ne pas qu'il me pose problème lors de la seconde jointure\n",
    "morta_s = morta_s.drop('_merge', axis=1)"
   ]
  },
  {
   "cell_type": "code",
   "execution_count": 109,
   "id": "a0f128c2",
   "metadata": {},
   "outputs": [],
   "source": [
    "morta_s = morta_s.drop(columns=['Male wash deaths ', 'Female wash deaths '])"
   ]
  },
  {
   "cell_type": "code",
   "execution_count": 110,
   "id": "7ee4851c",
   "metadata": {},
   "outputs": [
    {
     "data": {
      "text/html": [
       "<div>\n",
       "<style scoped>\n",
       "    .dataframe tbody tr th:only-of-type {\n",
       "        vertical-align: middle;\n",
       "    }\n",
       "\n",
       "    .dataframe tbody tr th {\n",
       "        vertical-align: top;\n",
       "    }\n",
       "\n",
       "    .dataframe thead th {\n",
       "        text-align: right;\n",
       "    }\n",
       "</style>\n",
       "<table border=\"1\" class=\"dataframe\">\n",
       "  <thead>\n",
       "    <tr style=\"text-align: right;\">\n",
       "      <th></th>\n",
       "      <th>Year</th>\n",
       "      <th>Country</th>\n",
       "      <th>Female mortality rate per 100000 pop</th>\n",
       "      <th>Male mortality rate per 100000 pop</th>\n",
       "      <th>Total mortality rate per 100000 pop</th>\n",
       "      <th>Total wash deaths</th>\n",
       "      <th>_merge</th>\n",
       "    </tr>\n",
       "  </thead>\n",
       "  <tbody>\n",
       "    <tr>\n",
       "      <th>0</th>\n",
       "      <td>2016</td>\n",
       "      <td>Afghanistan</td>\n",
       "      <td>15.31193</td>\n",
       "      <td>12.61297</td>\n",
       "      <td>13.92067</td>\n",
       "      <td>4824.35300</td>\n",
       "      <td>both</td>\n",
       "    </tr>\n",
       "    <tr>\n",
       "      <th>1</th>\n",
       "      <td>2016</td>\n",
       "      <td>Albania</td>\n",
       "      <td>0.12552</td>\n",
       "      <td>0.20650</td>\n",
       "      <td>0.16641</td>\n",
       "      <td>4.86975</td>\n",
       "      <td>both</td>\n",
       "    </tr>\n",
       "    <tr>\n",
       "      <th>2</th>\n",
       "      <td>2016</td>\n",
       "      <td>Algeria</td>\n",
       "      <td>2.19890</td>\n",
       "      <td>1.72837</td>\n",
       "      <td>1.86723</td>\n",
       "      <td>758.21000</td>\n",
       "      <td>both</td>\n",
       "    </tr>\n",
       "    <tr>\n",
       "      <th>3</th>\n",
       "      <td>2016</td>\n",
       "      <td>Angola</td>\n",
       "      <td>45.15024</td>\n",
       "      <td>52.62506</td>\n",
       "      <td>48.81467</td>\n",
       "      <td>14065.20000</td>\n",
       "      <td>both</td>\n",
       "    </tr>\n",
       "    <tr>\n",
       "      <th>4</th>\n",
       "      <td>2016</td>\n",
       "      <td>Antigua and Barbuda</td>\n",
       "      <td>0.10419</td>\n",
       "      <td>0.12469</td>\n",
       "      <td>0.11403</td>\n",
       "      <td>0.11513</td>\n",
       "      <td>both</td>\n",
       "    </tr>\n",
       "  </tbody>\n",
       "</table>\n",
       "</div>"
      ],
      "text/plain": [
       "   Year              Country  Female mortality rate per 100000 pop  \\\n",
       "0  2016          Afghanistan                              15.31193   \n",
       "1  2016              Albania                               0.12552   \n",
       "2  2016              Algeria                               2.19890   \n",
       "3  2016               Angola                              45.15024   \n",
       "4  2016  Antigua and Barbuda                               0.10419   \n",
       "\n",
       "   Male mortality rate per 100000 pop   Total mortality rate per 100000 pop  \\\n",
       "0                            12.61297                              13.92067   \n",
       "1                             0.20650                               0.16641   \n",
       "2                             1.72837                               1.86723   \n",
       "3                            52.62506                              48.81467   \n",
       "4                             0.12469                               0.11403   \n",
       "\n",
       "   Total wash deaths _merge  \n",
       "0         4824.35300   both  \n",
       "1            4.86975   both  \n",
       "2          758.21000   both  \n",
       "3        14065.20000   both  \n",
       "4            0.11513   both  "
      ]
     },
     "execution_count": 110,
     "metadata": {},
     "output_type": "execute_result"
    }
   ],
   "source": [
    "# JOINTURE 2 - Je joins le df morta_s au df morta_totale\n",
    "mortality = pd.merge(morta_s, morta_total, on=['Country','Year'], how='inner',  indicator= True)\n",
    "mortality.head()"
   ]
  },
  {
   "cell_type": "code",
   "execution_count": 111,
   "id": "c17d29ae",
   "metadata": {},
   "outputs": [],
   "source": [
    "# Je supprime l'indicator \n",
    "mortality = mortality.drop('_merge', axis=1)"
   ]
  },
  {
   "cell_type": "code",
   "execution_count": 112,
   "id": "243e13e2",
   "metadata": {},
   "outputs": [
    {
     "data": {
      "text/plain": [
       "(183, 6)"
      ]
     },
     "execution_count": 112,
     "metadata": {},
     "output_type": "execute_result"
    }
   ],
   "source": [
    "mortality.shape"
   ]
  },
  {
   "cell_type": "markdown",
   "id": "0490c35a",
   "metadata": {},
   "source": [
    "### 3.5 Waterservice"
   ]
  },
  {
   "cell_type": "code",
   "execution_count": 113,
   "id": "566d066d",
   "metadata": {},
   "outputs": [
    {
     "data": {
      "text/html": [
       "<div>\n",
       "<style scoped>\n",
       "    .dataframe tbody tr th:only-of-type {\n",
       "        vertical-align: middle;\n",
       "    }\n",
       "\n",
       "    .dataframe tbody tr th {\n",
       "        vertical-align: top;\n",
       "    }\n",
       "\n",
       "    .dataframe thead th {\n",
       "        text-align: right;\n",
       "    }\n",
       "</style>\n",
       "<table border=\"1\" class=\"dataframe\">\n",
       "  <thead>\n",
       "    <tr style=\"text-align: right;\">\n",
       "      <th></th>\n",
       "      <th>Year</th>\n",
       "      <th>Country</th>\n",
       "      <th>Granularity</th>\n",
       "      <th>Population using at least basic drinking-water services (%)</th>\n",
       "      <th>Population using safely managed drinking-water services (%)</th>\n",
       "    </tr>\n",
       "  </thead>\n",
       "  <tbody>\n",
       "    <tr>\n",
       "      <th>0</th>\n",
       "      <td>2000</td>\n",
       "      <td>Afghanistan</td>\n",
       "      <td>Rural</td>\n",
       "      <td>21.61913</td>\n",
       "      <td>NaN</td>\n",
       "    </tr>\n",
       "    <tr>\n",
       "      <th>1</th>\n",
       "      <td>2000</td>\n",
       "      <td>Afghanistan</td>\n",
       "      <td>Total</td>\n",
       "      <td>27.77190</td>\n",
       "      <td>NaN</td>\n",
       "    </tr>\n",
       "    <tr>\n",
       "      <th>2</th>\n",
       "      <td>2000</td>\n",
       "      <td>Afghanistan</td>\n",
       "      <td>Urban</td>\n",
       "      <td>49.48745</td>\n",
       "      <td>NaN</td>\n",
       "    </tr>\n",
       "    <tr>\n",
       "      <th>3</th>\n",
       "      <td>2000</td>\n",
       "      <td>Albania</td>\n",
       "      <td>Rural</td>\n",
       "      <td>81.78472</td>\n",
       "      <td>NaN</td>\n",
       "    </tr>\n",
       "    <tr>\n",
       "      <th>4</th>\n",
       "      <td>2000</td>\n",
       "      <td>Albania</td>\n",
       "      <td>Total</td>\n",
       "      <td>87.86662</td>\n",
       "      <td>49.29324</td>\n",
       "    </tr>\n",
       "    <tr>\n",
       "      <th>5</th>\n",
       "      <td>2000</td>\n",
       "      <td>Albania</td>\n",
       "      <td>Urban</td>\n",
       "      <td>96.35529</td>\n",
       "      <td>NaN</td>\n",
       "    </tr>\n",
       "    <tr>\n",
       "      <th>6</th>\n",
       "      <td>2000</td>\n",
       "      <td>Algeria</td>\n",
       "      <td>Rural</td>\n",
       "      <td>83.32201</td>\n",
       "      <td>NaN</td>\n",
       "    </tr>\n",
       "    <tr>\n",
       "      <th>7</th>\n",
       "      <td>2000</td>\n",
       "      <td>Algeria</td>\n",
       "      <td>Total</td>\n",
       "      <td>89.83726</td>\n",
       "      <td>NaN</td>\n",
       "    </tr>\n",
       "    <tr>\n",
       "      <th>8</th>\n",
       "      <td>2000</td>\n",
       "      <td>Algeria</td>\n",
       "      <td>Urban</td>\n",
       "      <td>94.19543</td>\n",
       "      <td>NaN</td>\n",
       "    </tr>\n",
       "    <tr>\n",
       "      <th>9</th>\n",
       "      <td>2000</td>\n",
       "      <td>Andorra</td>\n",
       "      <td>Rural</td>\n",
       "      <td>100.00000</td>\n",
       "      <td>NaN</td>\n",
       "    </tr>\n",
       "  </tbody>\n",
       "</table>\n",
       "</div>"
      ],
      "text/plain": [
       "   Year      Country Granularity  \\\n",
       "0  2000  Afghanistan       Rural   \n",
       "1  2000  Afghanistan       Total   \n",
       "2  2000  Afghanistan       Urban   \n",
       "3  2000      Albania       Rural   \n",
       "4  2000      Albania       Total   \n",
       "5  2000      Albania       Urban   \n",
       "6  2000      Algeria       Rural   \n",
       "7  2000      Algeria       Total   \n",
       "8  2000      Algeria       Urban   \n",
       "9  2000      Andorra       Rural   \n",
       "\n",
       "   Population using at least basic drinking-water services (%)  \\\n",
       "0                                           21.61913             \n",
       "1                                           27.77190             \n",
       "2                                           49.48745             \n",
       "3                                           81.78472             \n",
       "4                                           87.86662             \n",
       "5                                           96.35529             \n",
       "6                                           83.32201             \n",
       "7                                           89.83726             \n",
       "8                                           94.19543             \n",
       "9                                          100.00000             \n",
       "\n",
       "   Population using safely managed drinking-water services (%)  \n",
       "0                                                NaN            \n",
       "1                                                NaN            \n",
       "2                                                NaN            \n",
       "3                                                NaN            \n",
       "4                                           49.29324            \n",
       "5                                                NaN            \n",
       "6                                                NaN            \n",
       "7                                                NaN            \n",
       "8                                                NaN            \n",
       "9                                                NaN            "
      ]
     },
     "execution_count": 113,
     "metadata": {},
     "output_type": "execute_result"
    }
   ],
   "source": [
    "waterservice.head(10)"
   ]
  },
  {
   "cell_type": "code",
   "execution_count": 114,
   "id": "4e38923e",
   "metadata": {},
   "outputs": [
    {
     "name": "stdout",
     "output_type": "stream",
     "text": [
      "<class 'pandas.core.frame.DataFrame'>\n",
      "RangeIndex: 10476 entries, 0 to 10475\n",
      "Data columns (total 5 columns):\n",
      " #   Column                                                       Non-Null Count  Dtype  \n",
      "---  ------                                                       --------------  -----  \n",
      " 0   Year                                                         10476 non-null  int64  \n",
      " 1   Country                                                      10476 non-null  object \n",
      " 2   Granularity                                                  10476 non-null  object \n",
      " 3   Population using at least basic drinking-water services (%)  9415 non-null   float64\n",
      " 4   Population using safely managed drinking-water services (%)  3286 non-null   float64\n",
      "dtypes: float64(2), int64(1), object(2)\n",
      "memory usage: 409.3+ KB\n"
     ]
    }
   ],
   "source": [
    "waterservice.info()"
   ]
  },
  {
   "cell_type": "code",
   "execution_count": 115,
   "id": "353d599c",
   "metadata": {},
   "outputs": [
    {
     "data": {
      "text/plain": [
       "0"
      ]
     },
     "execution_count": 115,
     "metadata": {},
     "output_type": "execute_result"
    }
   ],
   "source": [
    "waterservice.duplicated().sum()"
   ]
  },
  {
   "cell_type": "code",
   "execution_count": 116,
   "id": "6c43e5a5",
   "metadata": {},
   "outputs": [
    {
     "data": {
      "text/plain": [
       "194"
      ]
     },
     "execution_count": 116,
     "metadata": {},
     "output_type": "execute_result"
    }
   ],
   "source": [
    "waterservice['Country'].nunique() "
   ]
  },
  {
   "cell_type": "code",
   "execution_count": 117,
   "id": "f1f7e0ce",
   "metadata": {},
   "outputs": [
    {
     "data": {
      "text/plain": [
       "array([2000, 2001, 2002, 2003, 2004, 2005, 2006, 2007, 2008, 2009, 2010,\n",
       "       2011, 2012, 2013, 2014, 2015, 2016, 2017], dtype=int64)"
      ]
     },
     "execution_count": 117,
     "metadata": {},
     "output_type": "execute_result"
    }
   ],
   "source": [
    "waterservice['Year'].unique()"
   ]
  },
  {
   "cell_type": "code",
   "execution_count": 118,
   "id": "f6bd25d8",
   "metadata": {},
   "outputs": [],
   "source": [
    "# je renomme les variables \n",
    "waterservice.rename(columns={'Population using at least basic drinking-water services (%)':\n",
    "                             'Basic Water Services (% Pop)', \n",
    "                             'Population using safely managed drinking-water services (%)': \n",
    "                             'Safe Drinking Water (% Pop)'}, inplace=True)\n",
    "# % de la population qui a accès à des services d'eau potable de base\n",
    "# accès minimal à l'eau potable, ce qui peut inclure des sources d'eau améliorées comme les réseaux d'eau courante"
   ]
  },
  {
   "cell_type": "code",
   "execution_count": 119,
   "id": "794a8e21",
   "metadata": {},
   "outputs": [
    {
     "data": {
      "text/plain": [
       "Year                               0\n",
       "Country                            0\n",
       "Granularity                        0\n",
       "Basic Water Services (% Pop)    1061\n",
       "Safe Drinking Water (% Pop)     7190\n",
       "dtype: int64"
      ]
     },
     "execution_count": 119,
     "metadata": {},
     "output_type": "execute_result"
    }
   ],
   "source": [
    "# J'affice les variables avec les NAN\n",
    "waterservice.isna().sum()"
   ]
  },
  {
   "cell_type": "code",
   "execution_count": 120,
   "id": "ff68c5c4",
   "metadata": {},
   "outputs": [],
   "source": [
    "# Je remplace les NAN par 0\n",
    "waterservice['Basic Water Services (% Pop)'] = waterservice['Basic Water Services (% Pop)'].fillna(0)\n",
    "waterservice['Safe Drinking Water (% Pop)'] = waterservice['Safe Drinking Water (% Pop)'].fillna(0)\n",
    "# 0 à ne pas commenter car risque de fauser l'analyse"
   ]
  },
  {
   "cell_type": "code",
   "execution_count": 121,
   "id": "7e01b30b",
   "metadata": {},
   "outputs": [],
   "source": [
    "# Je crée les df waterservice par granularity\n",
    "# je crée le df waterservice totla\n",
    "water_total = waterservice.loc[waterservice['Granularity'] == 'Total',:].copy()"
   ]
  },
  {
   "cell_type": "code",
   "execution_count": 122,
   "id": "9ba5b399",
   "metadata": {},
   "outputs": [
    {
     "data": {
      "text/html": [
       "<div>\n",
       "<style scoped>\n",
       "    .dataframe tbody tr th:only-of-type {\n",
       "        vertical-align: middle;\n",
       "    }\n",
       "\n",
       "    .dataframe tbody tr th {\n",
       "        vertical-align: top;\n",
       "    }\n",
       "\n",
       "    .dataframe thead th {\n",
       "        text-align: right;\n",
       "    }\n",
       "</style>\n",
       "<table border=\"1\" class=\"dataframe\">\n",
       "  <thead>\n",
       "    <tr style=\"text-align: right;\">\n",
       "      <th></th>\n",
       "      <th>Year</th>\n",
       "      <th>Country</th>\n",
       "      <th>Granularity</th>\n",
       "      <th>Total basic Water Services (% Pop)</th>\n",
       "      <th>Total safe Drinking Water (% Pop)</th>\n",
       "    </tr>\n",
       "  </thead>\n",
       "  <tbody>\n",
       "    <tr>\n",
       "      <th>1</th>\n",
       "      <td>2000</td>\n",
       "      <td>Afghanistan</td>\n",
       "      <td>Total</td>\n",
       "      <td>27.77190</td>\n",
       "      <td>0.00000</td>\n",
       "    </tr>\n",
       "    <tr>\n",
       "      <th>4</th>\n",
       "      <td>2000</td>\n",
       "      <td>Albania</td>\n",
       "      <td>Total</td>\n",
       "      <td>87.86662</td>\n",
       "      <td>49.29324</td>\n",
       "    </tr>\n",
       "    <tr>\n",
       "      <th>7</th>\n",
       "      <td>2000</td>\n",
       "      <td>Algeria</td>\n",
       "      <td>Total</td>\n",
       "      <td>89.83726</td>\n",
       "      <td>0.00000</td>\n",
       "    </tr>\n",
       "    <tr>\n",
       "      <th>10</th>\n",
       "      <td>2000</td>\n",
       "      <td>Andorra</td>\n",
       "      <td>Total</td>\n",
       "      <td>100.00000</td>\n",
       "      <td>90.64000</td>\n",
       "    </tr>\n",
       "    <tr>\n",
       "      <th>13</th>\n",
       "      <td>2000</td>\n",
       "      <td>Angola</td>\n",
       "      <td>Total</td>\n",
       "      <td>41.14431</td>\n",
       "      <td>0.00000</td>\n",
       "    </tr>\n",
       "  </tbody>\n",
       "</table>\n",
       "</div>"
      ],
      "text/plain": [
       "    Year      Country Granularity  Total basic Water Services (% Pop)  \\\n",
       "1   2000  Afghanistan       Total                            27.77190   \n",
       "4   2000      Albania       Total                            87.86662   \n",
       "7   2000      Algeria       Total                            89.83726   \n",
       "10  2000      Andorra       Total                           100.00000   \n",
       "13  2000       Angola       Total                            41.14431   \n",
       "\n",
       "    Total safe Drinking Water (% Pop)   \n",
       "1                              0.00000  \n",
       "4                             49.29324  \n",
       "7                              0.00000  \n",
       "10                            90.64000  \n",
       "13                             0.00000  "
      ]
     },
     "execution_count": 122,
     "metadata": {},
     "output_type": "execute_result"
    }
   ],
   "source": [
    "water_total.rename(columns ={'Basic Water Services (% Pop)':'Total basic Water Services (% Pop)',\n",
    "                            'Safe Drinking Water (% Pop)':'Total safe Drinking Water (% Pop) '}, inplace=True)\n",
    "water_total.head()"
   ]
  },
  {
   "cell_type": "code",
   "execution_count": 123,
   "id": "9d4ed943",
   "metadata": {},
   "outputs": [],
   "source": [
    "del water_total['Granularity']"
   ]
  },
  {
   "cell_type": "code",
   "execution_count": 124,
   "id": "bb105e47",
   "metadata": {},
   "outputs": [],
   "source": [
    "# je crée le df waterservice Urban\n",
    "water_urban = waterservice.loc[waterservice['Granularity'] == 'Urban',:].copy()"
   ]
  },
  {
   "cell_type": "code",
   "execution_count": 125,
   "id": "18f7afcb",
   "metadata": {},
   "outputs": [
    {
     "data": {
      "text/html": [
       "<div>\n",
       "<style scoped>\n",
       "    .dataframe tbody tr th:only-of-type {\n",
       "        vertical-align: middle;\n",
       "    }\n",
       "\n",
       "    .dataframe tbody tr th {\n",
       "        vertical-align: top;\n",
       "    }\n",
       "\n",
       "    .dataframe thead th {\n",
       "        text-align: right;\n",
       "    }\n",
       "</style>\n",
       "<table border=\"1\" class=\"dataframe\">\n",
       "  <thead>\n",
       "    <tr style=\"text-align: right;\">\n",
       "      <th></th>\n",
       "      <th>Year</th>\n",
       "      <th>Country</th>\n",
       "      <th>Granularity</th>\n",
       "      <th>Urban basic Water Services (% Pop)</th>\n",
       "      <th>Urban safe Drinking Water (% Pop)</th>\n",
       "    </tr>\n",
       "  </thead>\n",
       "  <tbody>\n",
       "    <tr>\n",
       "      <th>2</th>\n",
       "      <td>2000</td>\n",
       "      <td>Afghanistan</td>\n",
       "      <td>Urban</td>\n",
       "      <td>49.48745</td>\n",
       "      <td>0.0</td>\n",
       "    </tr>\n",
       "    <tr>\n",
       "      <th>5</th>\n",
       "      <td>2000</td>\n",
       "      <td>Albania</td>\n",
       "      <td>Urban</td>\n",
       "      <td>96.35529</td>\n",
       "      <td>0.0</td>\n",
       "    </tr>\n",
       "    <tr>\n",
       "      <th>8</th>\n",
       "      <td>2000</td>\n",
       "      <td>Algeria</td>\n",
       "      <td>Urban</td>\n",
       "      <td>94.19543</td>\n",
       "      <td>0.0</td>\n",
       "    </tr>\n",
       "    <tr>\n",
       "      <th>11</th>\n",
       "      <td>2000</td>\n",
       "      <td>Andorra</td>\n",
       "      <td>Urban</td>\n",
       "      <td>100.00000</td>\n",
       "      <td>0.0</td>\n",
       "    </tr>\n",
       "    <tr>\n",
       "      <th>14</th>\n",
       "      <td>2000</td>\n",
       "      <td>Angola</td>\n",
       "      <td>Urban</td>\n",
       "      <td>61.06653</td>\n",
       "      <td>0.0</td>\n",
       "    </tr>\n",
       "  </tbody>\n",
       "</table>\n",
       "</div>"
      ],
      "text/plain": [
       "    Year      Country Granularity  Urban basic Water Services (% Pop)  \\\n",
       "2   2000  Afghanistan       Urban                            49.48745   \n",
       "5   2000      Albania       Urban                            96.35529   \n",
       "8   2000      Algeria       Urban                            94.19543   \n",
       "11  2000      Andorra       Urban                           100.00000   \n",
       "14  2000       Angola       Urban                            61.06653   \n",
       "\n",
       "    Urban safe Drinking Water (% Pop)   \n",
       "2                                  0.0  \n",
       "5                                  0.0  \n",
       "8                                  0.0  \n",
       "11                                 0.0  \n",
       "14                                 0.0  "
      ]
     },
     "execution_count": 125,
     "metadata": {},
     "output_type": "execute_result"
    }
   ],
   "source": [
    "water_urban.rename(columns ={'Basic Water Services (% Pop)':'Urban basic Water Services (% Pop)',\n",
    "                            'Safe Drinking Water (% Pop)':'Urban safe Drinking Water (% Pop) '}, inplace=True)\n",
    "water_urban.head()"
   ]
  },
  {
   "cell_type": "code",
   "execution_count": 126,
   "id": "5aa9b71b",
   "metadata": {},
   "outputs": [],
   "source": [
    "del water_urban['Granularity']"
   ]
  },
  {
   "cell_type": "code",
   "execution_count": 127,
   "id": "dcea96d2",
   "metadata": {},
   "outputs": [],
   "source": [
    "# je crée le df waterservice Rural\n",
    "water_rural = waterservice.loc[waterservice['Granularity'] == 'Rural',:].copy()"
   ]
  },
  {
   "cell_type": "code",
   "execution_count": 128,
   "id": "ed0dac29",
   "metadata": {},
   "outputs": [
    {
     "data": {
      "text/html": [
       "<div>\n",
       "<style scoped>\n",
       "    .dataframe tbody tr th:only-of-type {\n",
       "        vertical-align: middle;\n",
       "    }\n",
       "\n",
       "    .dataframe tbody tr th {\n",
       "        vertical-align: top;\n",
       "    }\n",
       "\n",
       "    .dataframe thead th {\n",
       "        text-align: right;\n",
       "    }\n",
       "</style>\n",
       "<table border=\"1\" class=\"dataframe\">\n",
       "  <thead>\n",
       "    <tr style=\"text-align: right;\">\n",
       "      <th></th>\n",
       "      <th>Year</th>\n",
       "      <th>Country</th>\n",
       "      <th>Granularity</th>\n",
       "      <th>Rural basic Water Services (% Pop)</th>\n",
       "      <th>Rural safe Drinking Water (% Pop)</th>\n",
       "    </tr>\n",
       "  </thead>\n",
       "  <tbody>\n",
       "    <tr>\n",
       "      <th>0</th>\n",
       "      <td>2000</td>\n",
       "      <td>Afghanistan</td>\n",
       "      <td>Rural</td>\n",
       "      <td>21.61913</td>\n",
       "      <td>0.0</td>\n",
       "    </tr>\n",
       "    <tr>\n",
       "      <th>3</th>\n",
       "      <td>2000</td>\n",
       "      <td>Albania</td>\n",
       "      <td>Rural</td>\n",
       "      <td>81.78472</td>\n",
       "      <td>0.0</td>\n",
       "    </tr>\n",
       "    <tr>\n",
       "      <th>6</th>\n",
       "      <td>2000</td>\n",
       "      <td>Algeria</td>\n",
       "      <td>Rural</td>\n",
       "      <td>83.32201</td>\n",
       "      <td>0.0</td>\n",
       "    </tr>\n",
       "    <tr>\n",
       "      <th>9</th>\n",
       "      <td>2000</td>\n",
       "      <td>Andorra</td>\n",
       "      <td>Rural</td>\n",
       "      <td>100.00000</td>\n",
       "      <td>0.0</td>\n",
       "    </tr>\n",
       "    <tr>\n",
       "      <th>12</th>\n",
       "      <td>2000</td>\n",
       "      <td>Angola</td>\n",
       "      <td>Rural</td>\n",
       "      <td>21.15264</td>\n",
       "      <td>0.0</td>\n",
       "    </tr>\n",
       "  </tbody>\n",
       "</table>\n",
       "</div>"
      ],
      "text/plain": [
       "    Year      Country Granularity  Rural basic Water Services (% Pop)  \\\n",
       "0   2000  Afghanistan       Rural                            21.61913   \n",
       "3   2000      Albania       Rural                            81.78472   \n",
       "6   2000      Algeria       Rural                            83.32201   \n",
       "9   2000      Andorra       Rural                           100.00000   \n",
       "12  2000       Angola       Rural                            21.15264   \n",
       "\n",
       "    Rural safe Drinking Water (% Pop)   \n",
       "0                                  0.0  \n",
       "3                                  0.0  \n",
       "6                                  0.0  \n",
       "9                                  0.0  \n",
       "12                                 0.0  "
      ]
     },
     "execution_count": 128,
     "metadata": {},
     "output_type": "execute_result"
    }
   ],
   "source": [
    "water_rural.rename(columns ={'Basic Water Services (% Pop)':'Rural basic Water Services (% Pop)',\n",
    "                            'Safe Drinking Water (% Pop)':'Rural safe Drinking Water (% Pop) '}, inplace=True)\n",
    "water_rural.head()"
   ]
  },
  {
   "cell_type": "code",
   "execution_count": 129,
   "id": "0b19ee33",
   "metadata": {},
   "outputs": [],
   "source": [
    "del water_rural['Granularity']"
   ]
  },
  {
   "cell_type": "code",
   "execution_count": 130,
   "id": "d4b1821c",
   "metadata": {},
   "outputs": [
    {
     "data": {
      "text/html": [
       "<div>\n",
       "<style scoped>\n",
       "    .dataframe tbody tr th:only-of-type {\n",
       "        vertical-align: middle;\n",
       "    }\n",
       "\n",
       "    .dataframe tbody tr th {\n",
       "        vertical-align: top;\n",
       "    }\n",
       "\n",
       "    .dataframe thead th {\n",
       "        text-align: right;\n",
       "    }\n",
       "</style>\n",
       "<table border=\"1\" class=\"dataframe\">\n",
       "  <thead>\n",
       "    <tr style=\"text-align: right;\">\n",
       "      <th></th>\n",
       "      <th>Year</th>\n",
       "      <th>Country</th>\n",
       "      <th>Rural basic Water Services (% Pop)</th>\n",
       "      <th>Rural safe Drinking Water (% Pop)</th>\n",
       "      <th>Urban basic Water Services (% Pop)</th>\n",
       "      <th>Urban safe Drinking Water (% Pop)</th>\n",
       "      <th>_merge</th>\n",
       "    </tr>\n",
       "  </thead>\n",
       "  <tbody>\n",
       "    <tr>\n",
       "      <th>0</th>\n",
       "      <td>2000</td>\n",
       "      <td>Afghanistan</td>\n",
       "      <td>21.61913</td>\n",
       "      <td>0.0</td>\n",
       "      <td>49.48745</td>\n",
       "      <td>0.0</td>\n",
       "      <td>both</td>\n",
       "    </tr>\n",
       "    <tr>\n",
       "      <th>1</th>\n",
       "      <td>2000</td>\n",
       "      <td>Albania</td>\n",
       "      <td>81.78472</td>\n",
       "      <td>0.0</td>\n",
       "      <td>96.35529</td>\n",
       "      <td>0.0</td>\n",
       "      <td>both</td>\n",
       "    </tr>\n",
       "    <tr>\n",
       "      <th>2</th>\n",
       "      <td>2000</td>\n",
       "      <td>Algeria</td>\n",
       "      <td>83.32201</td>\n",
       "      <td>0.0</td>\n",
       "      <td>94.19543</td>\n",
       "      <td>0.0</td>\n",
       "      <td>both</td>\n",
       "    </tr>\n",
       "    <tr>\n",
       "      <th>3</th>\n",
       "      <td>2000</td>\n",
       "      <td>Andorra</td>\n",
       "      <td>100.00000</td>\n",
       "      <td>0.0</td>\n",
       "      <td>100.00000</td>\n",
       "      <td>0.0</td>\n",
       "      <td>both</td>\n",
       "    </tr>\n",
       "    <tr>\n",
       "      <th>4</th>\n",
       "      <td>2000</td>\n",
       "      <td>Angola</td>\n",
       "      <td>21.15264</td>\n",
       "      <td>0.0</td>\n",
       "      <td>61.06653</td>\n",
       "      <td>0.0</td>\n",
       "      <td>both</td>\n",
       "    </tr>\n",
       "  </tbody>\n",
       "</table>\n",
       "</div>"
      ],
      "text/plain": [
       "   Year      Country  Rural basic Water Services (% Pop)  \\\n",
       "0  2000  Afghanistan                            21.61913   \n",
       "1  2000      Albania                            81.78472   \n",
       "2  2000      Algeria                            83.32201   \n",
       "3  2000      Andorra                           100.00000   \n",
       "4  2000       Angola                            21.15264   \n",
       "\n",
       "   Rural safe Drinking Water (% Pop)   Urban basic Water Services (% Pop)  \\\n",
       "0                                 0.0                            49.48745   \n",
       "1                                 0.0                            96.35529   \n",
       "2                                 0.0                            94.19543   \n",
       "3                                 0.0                           100.00000   \n",
       "4                                 0.0                            61.06653   \n",
       "\n",
       "   Urban safe Drinking Water (% Pop)  _merge  \n",
       "0                                 0.0   both  \n",
       "1                                 0.0   both  \n",
       "2                                 0.0   both  \n",
       "3                                 0.0   both  \n",
       "4                                 0.0   both  "
      ]
     },
     "execution_count": 130,
     "metadata": {},
     "output_type": "execute_result"
    }
   ],
   "source": [
    "# Je join les 3 df pour avoir mon df final waterservice\n",
    "# JOINTURE 1 - Je joins le df pop_urban au df pop_rural\n",
    "water_zone = pd.merge(water_rural, water_urban, on=['Country','Year'], how='inner',  indicator= True)\n",
    "water_zone.head()"
   ]
  },
  {
   "cell_type": "code",
   "execution_count": 131,
   "id": "1a52066e",
   "metadata": {},
   "outputs": [],
   "source": [
    "# Je supprime l'indicator après analyse pour ne pas qu'il me pose problème lors de la seconde jointure\n",
    "water_zone = water_zone.drop('_merge', axis=1)"
   ]
  },
  {
   "cell_type": "code",
   "execution_count": 132,
   "id": "a1e47b88",
   "metadata": {},
   "outputs": [
    {
     "data": {
      "text/html": [
       "<div>\n",
       "<style scoped>\n",
       "    .dataframe tbody tr th:only-of-type {\n",
       "        vertical-align: middle;\n",
       "    }\n",
       "\n",
       "    .dataframe tbody tr th {\n",
       "        vertical-align: top;\n",
       "    }\n",
       "\n",
       "    .dataframe thead th {\n",
       "        text-align: right;\n",
       "    }\n",
       "</style>\n",
       "<table border=\"1\" class=\"dataframe\">\n",
       "  <thead>\n",
       "    <tr style=\"text-align: right;\">\n",
       "      <th></th>\n",
       "      <th>Year</th>\n",
       "      <th>Country</th>\n",
       "      <th>Rural basic Water Services (% Pop)</th>\n",
       "      <th>Rural safe Drinking Water (% Pop)</th>\n",
       "      <th>Urban basic Water Services (% Pop)</th>\n",
       "      <th>Urban safe Drinking Water (% Pop)</th>\n",
       "      <th>Total basic Water Services (% Pop)</th>\n",
       "      <th>Total safe Drinking Water (% Pop)</th>\n",
       "      <th>_merge</th>\n",
       "    </tr>\n",
       "  </thead>\n",
       "  <tbody>\n",
       "    <tr>\n",
       "      <th>0</th>\n",
       "      <td>2000</td>\n",
       "      <td>Afghanistan</td>\n",
       "      <td>21.61913</td>\n",
       "      <td>0.0</td>\n",
       "      <td>49.48745</td>\n",
       "      <td>0.0</td>\n",
       "      <td>27.77190</td>\n",
       "      <td>0.00000</td>\n",
       "      <td>both</td>\n",
       "    </tr>\n",
       "    <tr>\n",
       "      <th>1</th>\n",
       "      <td>2000</td>\n",
       "      <td>Albania</td>\n",
       "      <td>81.78472</td>\n",
       "      <td>0.0</td>\n",
       "      <td>96.35529</td>\n",
       "      <td>0.0</td>\n",
       "      <td>87.86662</td>\n",
       "      <td>49.29324</td>\n",
       "      <td>both</td>\n",
       "    </tr>\n",
       "    <tr>\n",
       "      <th>2</th>\n",
       "      <td>2000</td>\n",
       "      <td>Algeria</td>\n",
       "      <td>83.32201</td>\n",
       "      <td>0.0</td>\n",
       "      <td>94.19543</td>\n",
       "      <td>0.0</td>\n",
       "      <td>89.83726</td>\n",
       "      <td>0.00000</td>\n",
       "      <td>both</td>\n",
       "    </tr>\n",
       "    <tr>\n",
       "      <th>3</th>\n",
       "      <td>2000</td>\n",
       "      <td>Andorra</td>\n",
       "      <td>100.00000</td>\n",
       "      <td>0.0</td>\n",
       "      <td>100.00000</td>\n",
       "      <td>0.0</td>\n",
       "      <td>100.00000</td>\n",
       "      <td>90.64000</td>\n",
       "      <td>both</td>\n",
       "    </tr>\n",
       "    <tr>\n",
       "      <th>4</th>\n",
       "      <td>2000</td>\n",
       "      <td>Angola</td>\n",
       "      <td>21.15264</td>\n",
       "      <td>0.0</td>\n",
       "      <td>61.06653</td>\n",
       "      <td>0.0</td>\n",
       "      <td>41.14431</td>\n",
       "      <td>0.00000</td>\n",
       "      <td>both</td>\n",
       "    </tr>\n",
       "  </tbody>\n",
       "</table>\n",
       "</div>"
      ],
      "text/plain": [
       "   Year      Country  Rural basic Water Services (% Pop)  \\\n",
       "0  2000  Afghanistan                            21.61913   \n",
       "1  2000      Albania                            81.78472   \n",
       "2  2000      Algeria                            83.32201   \n",
       "3  2000      Andorra                           100.00000   \n",
       "4  2000       Angola                            21.15264   \n",
       "\n",
       "   Rural safe Drinking Water (% Pop)   Urban basic Water Services (% Pop)  \\\n",
       "0                                 0.0                            49.48745   \n",
       "1                                 0.0                            96.35529   \n",
       "2                                 0.0                            94.19543   \n",
       "3                                 0.0                           100.00000   \n",
       "4                                 0.0                            61.06653   \n",
       "\n",
       "   Urban safe Drinking Water (% Pop)   Total basic Water Services (% Pop)  \\\n",
       "0                                 0.0                            27.77190   \n",
       "1                                 0.0                            87.86662   \n",
       "2                                 0.0                            89.83726   \n",
       "3                                 0.0                           100.00000   \n",
       "4                                 0.0                            41.14431   \n",
       "\n",
       "   Total safe Drinking Water (% Pop)  _merge  \n",
       "0                             0.00000   both  \n",
       "1                            49.29324   both  \n",
       "2                             0.00000   both  \n",
       "3                            90.64000   both  \n",
       "4                             0.00000   both  "
      ]
     },
     "execution_count": 132,
     "metadata": {},
     "output_type": "execute_result"
    }
   ],
   "source": [
    "# JOINTURE 2 - Je joins le df water_zone au df water_total\n",
    "waterservice = pd.merge(water_zone, water_total, on=['Country','Year'], how='inner',  indicator= True)\n",
    "waterservice.head()"
   ]
  },
  {
   "cell_type": "code",
   "execution_count": 133,
   "id": "58119659",
   "metadata": {},
   "outputs": [],
   "source": [
    "# Je supprime l'indicator \n",
    "waterservice = waterservice.drop('_merge', axis=1)"
   ]
  },
  {
   "cell_type": "code",
   "execution_count": 134,
   "id": "22622521",
   "metadata": {},
   "outputs": [
    {
     "data": {
      "text/plain": [
       "(3492, 8)"
      ]
     },
     "execution_count": 134,
     "metadata": {},
     "output_type": "execute_result"
    }
   ],
   "source": [
    "waterservice.shape"
   ]
  },
  {
   "cell_type": "markdown",
   "id": "dbdd42f7",
   "metadata": {},
   "source": [
    "### 4 Jointure des DataFrame"
   ]
  },
  {
   "cell_type": "code",
   "execution_count": 135,
   "id": "5ca1c681",
   "metadata": {},
   "outputs": [
    {
     "data": {
      "text/html": [
       "<div>\n",
       "<style scoped>\n",
       "    .dataframe tbody tr th:only-of-type {\n",
       "        vertical-align: middle;\n",
       "    }\n",
       "\n",
       "    .dataframe tbody tr th {\n",
       "        vertical-align: top;\n",
       "    }\n",
       "\n",
       "    .dataframe thead th {\n",
       "        text-align: right;\n",
       "    }\n",
       "</style>\n",
       "<table border=\"1\" class=\"dataframe\">\n",
       "  <thead>\n",
       "    <tr style=\"text-align: right;\">\n",
       "      <th></th>\n",
       "      <th>Country</th>\n",
       "      <th>Year</th>\n",
       "      <th>Pop_rural</th>\n",
       "      <th>Pop_urban</th>\n",
       "      <th>Pop_total</th>\n",
       "      <th>Pop_female</th>\n",
       "      <th>Pop_male</th>\n",
       "      <th>Rural basic Water Services (% Pop)</th>\n",
       "      <th>Rural safe Drinking Water (% Pop)</th>\n",
       "      <th>Urban basic Water Services (% Pop)</th>\n",
       "      <th>Urban safe Drinking Water (% Pop)</th>\n",
       "      <th>Total basic Water Services (% Pop)</th>\n",
       "      <th>Total safe Drinking Water (% Pop)</th>\n",
       "      <th>_merge</th>\n",
       "    </tr>\n",
       "  </thead>\n",
       "  <tbody>\n",
       "    <tr>\n",
       "      <th>0</th>\n",
       "      <td>Afghanistan</td>\n",
       "      <td>2000</td>\n",
       "      <td>15657474.0</td>\n",
       "      <td>4436282.0</td>\n",
       "      <td>20779953.0</td>\n",
       "      <td>10090449.0</td>\n",
       "      <td>10689508.0</td>\n",
       "      <td>21.61913</td>\n",
       "      <td>0.0</td>\n",
       "      <td>49.48745</td>\n",
       "      <td>0.0</td>\n",
       "      <td>27.77190</td>\n",
       "      <td>0.0</td>\n",
       "      <td>both</td>\n",
       "    </tr>\n",
       "    <tr>\n",
       "      <th>1</th>\n",
       "      <td>Afghanistan</td>\n",
       "      <td>2001</td>\n",
       "      <td>16318324.0</td>\n",
       "      <td>4648139.0</td>\n",
       "      <td>21606988.0</td>\n",
       "      <td>10489238.0</td>\n",
       "      <td>11117754.0</td>\n",
       "      <td>21.61913</td>\n",
       "      <td>0.0</td>\n",
       "      <td>49.48745</td>\n",
       "      <td>0.0</td>\n",
       "      <td>27.79726</td>\n",
       "      <td>0.0</td>\n",
       "      <td>both</td>\n",
       "    </tr>\n",
       "    <tr>\n",
       "      <th>2</th>\n",
       "      <td>Afghanistan</td>\n",
       "      <td>2002</td>\n",
       "      <td>17086910.0</td>\n",
       "      <td>4893013.0</td>\n",
       "      <td>22600770.0</td>\n",
       "      <td>10958668.0</td>\n",
       "      <td>11642106.0</td>\n",
       "      <td>23.59988</td>\n",
       "      <td>0.0</td>\n",
       "      <td>51.90447</td>\n",
       "      <td>0.0</td>\n",
       "      <td>29.90076</td>\n",
       "      <td>0.0</td>\n",
       "      <td>both</td>\n",
       "    </tr>\n",
       "    <tr>\n",
       "      <th>3</th>\n",
       "      <td>Afghanistan</td>\n",
       "      <td>2003</td>\n",
       "      <td>17909063.0</td>\n",
       "      <td>5155788.0</td>\n",
       "      <td>23680871.0</td>\n",
       "      <td>11466237.0</td>\n",
       "      <td>12214634.0</td>\n",
       "      <td>25.58063</td>\n",
       "      <td>0.0</td>\n",
       "      <td>54.32149</td>\n",
       "      <td>0.0</td>\n",
       "      <td>32.00507</td>\n",
       "      <td>0.0</td>\n",
       "      <td>both</td>\n",
       "    </tr>\n",
       "    <tr>\n",
       "      <th>4</th>\n",
       "      <td>Afghanistan</td>\n",
       "      <td>2004</td>\n",
       "      <td>18692107.0</td>\n",
       "      <td>5426872.0</td>\n",
       "      <td>24726684.0</td>\n",
       "      <td>11962963.0</td>\n",
       "      <td>12763726.0</td>\n",
       "      <td>27.56138</td>\n",
       "      <td>0.0</td>\n",
       "      <td>56.73851</td>\n",
       "      <td>0.0</td>\n",
       "      <td>34.12623</td>\n",
       "      <td>0.0</td>\n",
       "      <td>both</td>\n",
       "    </tr>\n",
       "  </tbody>\n",
       "</table>\n",
       "</div>"
      ],
      "text/plain": [
       "       Country  Year   Pop_rural  Pop_urban   Pop_total  Pop_female  \\\n",
       "0  Afghanistan  2000  15657474.0  4436282.0  20779953.0  10090449.0   \n",
       "1  Afghanistan  2001  16318324.0  4648139.0  21606988.0  10489238.0   \n",
       "2  Afghanistan  2002  17086910.0  4893013.0  22600770.0  10958668.0   \n",
       "3  Afghanistan  2003  17909063.0  5155788.0  23680871.0  11466237.0   \n",
       "4  Afghanistan  2004  18692107.0  5426872.0  24726684.0  11962963.0   \n",
       "\n",
       "     Pop_male  Rural basic Water Services (% Pop)  \\\n",
       "0  10689508.0                            21.61913   \n",
       "1  11117754.0                            21.61913   \n",
       "2  11642106.0                            23.59988   \n",
       "3  12214634.0                            25.58063   \n",
       "4  12763726.0                            27.56138   \n",
       "\n",
       "   Rural safe Drinking Water (% Pop)   Urban basic Water Services (% Pop)  \\\n",
       "0                                 0.0                            49.48745   \n",
       "1                                 0.0                            49.48745   \n",
       "2                                 0.0                            51.90447   \n",
       "3                                 0.0                            54.32149   \n",
       "4                                 0.0                            56.73851   \n",
       "\n",
       "   Urban safe Drinking Water (% Pop)   Total basic Water Services (% Pop)  \\\n",
       "0                                 0.0                            27.77190   \n",
       "1                                 0.0                            27.79726   \n",
       "2                                 0.0                            29.90076   \n",
       "3                                 0.0                            32.00507   \n",
       "4                                 0.0                            34.12623   \n",
       "\n",
       "   Total safe Drinking Water (% Pop)  _merge  \n",
       "0                                 0.0   both  \n",
       "1                                 0.0   both  \n",
       "2                                 0.0   both  \n",
       "3                                 0.0   both  \n",
       "4                                 0.0   both  "
      ]
     },
     "execution_count": 135,
     "metadata": {},
     "output_type": "execute_result"
    }
   ],
   "source": [
    "# JOINTURE 1 - Je joins le df popu au df waterservice en utilsant comme clé de jointure 'Country'   \n",
    "pop_water = pd.merge(population, waterservice, on=['Country','Year'], how='outer', indicator= True)\n",
    "pop_water.head()"
   ]
  },
  {
   "cell_type": "code",
   "execution_count": 136,
   "id": "8b348337",
   "metadata": {},
   "outputs": [],
   "source": [
    "# Je supprime l'indicator après analyse pour ne pas qu'il me pose problème lors de la seconde jointure\n",
    "pop_water = pop_water.drop('_merge', axis=1)"
   ]
  },
  {
   "cell_type": "code",
   "execution_count": 137,
   "id": "73675fd4",
   "metadata": {},
   "outputs": [
    {
     "data": {
      "text/plain": [
       "(4362, 13)"
      ]
     },
     "execution_count": 137,
     "metadata": {},
     "output_type": "execute_result"
    }
   ],
   "source": [
    "pop_water.shape"
   ]
  },
  {
   "cell_type": "code",
   "execution_count": 138,
   "id": "37dd3b64",
   "metadata": {},
   "outputs": [
    {
     "data": {
      "text/html": [
       "<div>\n",
       "<style scoped>\n",
       "    .dataframe tbody tr th:only-of-type {\n",
       "        vertical-align: middle;\n",
       "    }\n",
       "\n",
       "    .dataframe tbody tr th {\n",
       "        vertical-align: top;\n",
       "    }\n",
       "\n",
       "    .dataframe thead th {\n",
       "        text-align: right;\n",
       "    }\n",
       "</style>\n",
       "<table border=\"1\" class=\"dataframe\">\n",
       "  <thead>\n",
       "    <tr style=\"text-align: right;\">\n",
       "      <th></th>\n",
       "      <th>Country</th>\n",
       "      <th>Year</th>\n",
       "      <th>Pop_rural</th>\n",
       "      <th>Pop_urban</th>\n",
       "      <th>Pop_total</th>\n",
       "      <th>Pop_female</th>\n",
       "      <th>Pop_male</th>\n",
       "      <th>Rural basic Water Services (% Pop)</th>\n",
       "      <th>Rural safe Drinking Water (% Pop)</th>\n",
       "      <th>Urban basic Water Services (% Pop)</th>\n",
       "      <th>Urban safe Drinking Water (% Pop)</th>\n",
       "      <th>Total basic Water Services (% Pop)</th>\n",
       "      <th>Total safe Drinking Water (% Pop)</th>\n",
       "      <th>Political_Stability</th>\n",
       "      <th>_merge</th>\n",
       "    </tr>\n",
       "  </thead>\n",
       "  <tbody>\n",
       "    <tr>\n",
       "      <th>0</th>\n",
       "      <td>Afghanistan</td>\n",
       "      <td>2000</td>\n",
       "      <td>15657474.0</td>\n",
       "      <td>4436282.0</td>\n",
       "      <td>20779953.0</td>\n",
       "      <td>10090449.0</td>\n",
       "      <td>10689508.0</td>\n",
       "      <td>21.61913</td>\n",
       "      <td>0.0</td>\n",
       "      <td>49.48745</td>\n",
       "      <td>0.0</td>\n",
       "      <td>27.77190</td>\n",
       "      <td>0.0</td>\n",
       "      <td>-2.44</td>\n",
       "      <td>both</td>\n",
       "    </tr>\n",
       "    <tr>\n",
       "      <th>1</th>\n",
       "      <td>Afghanistan</td>\n",
       "      <td>2001</td>\n",
       "      <td>16318324.0</td>\n",
       "      <td>4648139.0</td>\n",
       "      <td>21606988.0</td>\n",
       "      <td>10489238.0</td>\n",
       "      <td>11117754.0</td>\n",
       "      <td>21.61913</td>\n",
       "      <td>0.0</td>\n",
       "      <td>49.48745</td>\n",
       "      <td>0.0</td>\n",
       "      <td>27.79726</td>\n",
       "      <td>0.0</td>\n",
       "      <td>NaN</td>\n",
       "      <td>left_only</td>\n",
       "    </tr>\n",
       "    <tr>\n",
       "      <th>2</th>\n",
       "      <td>Afghanistan</td>\n",
       "      <td>2002</td>\n",
       "      <td>17086910.0</td>\n",
       "      <td>4893013.0</td>\n",
       "      <td>22600770.0</td>\n",
       "      <td>10958668.0</td>\n",
       "      <td>11642106.0</td>\n",
       "      <td>23.59988</td>\n",
       "      <td>0.0</td>\n",
       "      <td>51.90447</td>\n",
       "      <td>0.0</td>\n",
       "      <td>29.90076</td>\n",
       "      <td>0.0</td>\n",
       "      <td>-2.04</td>\n",
       "      <td>both</td>\n",
       "    </tr>\n",
       "    <tr>\n",
       "      <th>3</th>\n",
       "      <td>Afghanistan</td>\n",
       "      <td>2003</td>\n",
       "      <td>17909063.0</td>\n",
       "      <td>5155788.0</td>\n",
       "      <td>23680871.0</td>\n",
       "      <td>11466237.0</td>\n",
       "      <td>12214634.0</td>\n",
       "      <td>25.58063</td>\n",
       "      <td>0.0</td>\n",
       "      <td>54.32149</td>\n",
       "      <td>0.0</td>\n",
       "      <td>32.00507</td>\n",
       "      <td>0.0</td>\n",
       "      <td>-2.20</td>\n",
       "      <td>both</td>\n",
       "    </tr>\n",
       "    <tr>\n",
       "      <th>4</th>\n",
       "      <td>Afghanistan</td>\n",
       "      <td>2004</td>\n",
       "      <td>18692107.0</td>\n",
       "      <td>5426872.0</td>\n",
       "      <td>24726684.0</td>\n",
       "      <td>11962963.0</td>\n",
       "      <td>12763726.0</td>\n",
       "      <td>27.56138</td>\n",
       "      <td>0.0</td>\n",
       "      <td>56.73851</td>\n",
       "      <td>0.0</td>\n",
       "      <td>34.12623</td>\n",
       "      <td>0.0</td>\n",
       "      <td>-2.30</td>\n",
       "      <td>both</td>\n",
       "    </tr>\n",
       "  </tbody>\n",
       "</table>\n",
       "</div>"
      ],
      "text/plain": [
       "       Country  Year   Pop_rural  Pop_urban   Pop_total  Pop_female  \\\n",
       "0  Afghanistan  2000  15657474.0  4436282.0  20779953.0  10090449.0   \n",
       "1  Afghanistan  2001  16318324.0  4648139.0  21606988.0  10489238.0   \n",
       "2  Afghanistan  2002  17086910.0  4893013.0  22600770.0  10958668.0   \n",
       "3  Afghanistan  2003  17909063.0  5155788.0  23680871.0  11466237.0   \n",
       "4  Afghanistan  2004  18692107.0  5426872.0  24726684.0  11962963.0   \n",
       "\n",
       "     Pop_male  Rural basic Water Services (% Pop)  \\\n",
       "0  10689508.0                            21.61913   \n",
       "1  11117754.0                            21.61913   \n",
       "2  11642106.0                            23.59988   \n",
       "3  12214634.0                            25.58063   \n",
       "4  12763726.0                            27.56138   \n",
       "\n",
       "   Rural safe Drinking Water (% Pop)   Urban basic Water Services (% Pop)  \\\n",
       "0                                 0.0                            49.48745   \n",
       "1                                 0.0                            49.48745   \n",
       "2                                 0.0                            51.90447   \n",
       "3                                 0.0                            54.32149   \n",
       "4                                 0.0                            56.73851   \n",
       "\n",
       "   Urban safe Drinking Water (% Pop)   Total basic Water Services (% Pop)  \\\n",
       "0                                 0.0                            27.77190   \n",
       "1                                 0.0                            27.79726   \n",
       "2                                 0.0                            29.90076   \n",
       "3                                 0.0                            32.00507   \n",
       "4                                 0.0                            34.12623   \n",
       "\n",
       "   Total safe Drinking Water (% Pop)   Political_Stability     _merge  \n",
       "0                                 0.0                -2.44       both  \n",
       "1                                 0.0                  NaN  left_only  \n",
       "2                                 0.0                -2.04       both  \n",
       "3                                 0.0                -2.20       both  \n",
       "4                                 0.0                -2.30       both  "
      ]
     },
     "execution_count": 138,
     "metadata": {},
     "output_type": "execute_result"
    }
   ],
   "source": [
    "# JOINTURE 2 - Je joins le df popu_sta au df waterservice en utilsant comme clé de jointure 'Country'   \n",
    "pop_water_stabi = pd.merge(pop_water, stability, on=['Country','Year'], how='outer',  indicator= True)\n",
    "pop_water_stabi.head()"
   ]
  },
  {
   "cell_type": "code",
   "execution_count": 139,
   "id": "f0dd4982",
   "metadata": {},
   "outputs": [],
   "source": [
    "# Je supprime l'indicator après analyse pour ne pas qu'il me pose problème lors de la seconde jointure\n",
    "pop_water_stabi = pop_water_stabi.drop('_merge', axis=1)"
   ]
  },
  {
   "cell_type": "code",
   "execution_count": 140,
   "id": "de09654e",
   "metadata": {},
   "outputs": [
    {
     "data": {
      "text/plain": [
       "(4362, 14)"
      ]
     },
     "execution_count": 140,
     "metadata": {},
     "output_type": "execute_result"
    }
   ],
   "source": [
    "pop_water_stabi.shape"
   ]
  },
  {
   "cell_type": "code",
   "execution_count": 141,
   "id": "7c0b37b4",
   "metadata": {},
   "outputs": [
    {
     "data": {
      "text/html": [
       "<div>\n",
       "<style scoped>\n",
       "    .dataframe tbody tr th:only-of-type {\n",
       "        vertical-align: middle;\n",
       "    }\n",
       "\n",
       "    .dataframe tbody tr th {\n",
       "        vertical-align: top;\n",
       "    }\n",
       "\n",
       "    .dataframe thead th {\n",
       "        text-align: right;\n",
       "    }\n",
       "</style>\n",
       "<table border=\"1\" class=\"dataframe\">\n",
       "  <thead>\n",
       "    <tr style=\"text-align: right;\">\n",
       "      <th></th>\n",
       "      <th>Country</th>\n",
       "      <th>Year</th>\n",
       "      <th>Pop_rural</th>\n",
       "      <th>Pop_urban</th>\n",
       "      <th>Pop_total</th>\n",
       "      <th>Pop_female</th>\n",
       "      <th>Pop_male</th>\n",
       "      <th>Rural basic Water Services (% Pop)</th>\n",
       "      <th>Rural safe Drinking Water (% Pop)</th>\n",
       "      <th>Urban basic Water Services (% Pop)</th>\n",
       "      <th>Urban safe Drinking Water (% Pop)</th>\n",
       "      <th>Total basic Water Services (% Pop)</th>\n",
       "      <th>Total safe Drinking Water (% Pop)</th>\n",
       "      <th>Political_Stability</th>\n",
       "      <th>Female mortality rate per 100000 pop</th>\n",
       "      <th>Male mortality rate per 100000 pop</th>\n",
       "      <th>Total mortality rate per 100000 pop</th>\n",
       "      <th>Total wash deaths</th>\n",
       "      <th>_merge</th>\n",
       "    </tr>\n",
       "  </thead>\n",
       "  <tbody>\n",
       "    <tr>\n",
       "      <th>0</th>\n",
       "      <td>Afghanistan</td>\n",
       "      <td>2000</td>\n",
       "      <td>15657474.0</td>\n",
       "      <td>4436282.0</td>\n",
       "      <td>20779953.0</td>\n",
       "      <td>10090449.0</td>\n",
       "      <td>10689508.0</td>\n",
       "      <td>21.61913</td>\n",
       "      <td>0.0</td>\n",
       "      <td>49.48745</td>\n",
       "      <td>0.0</td>\n",
       "      <td>27.77190</td>\n",
       "      <td>0.0</td>\n",
       "      <td>-2.44</td>\n",
       "      <td>NaN</td>\n",
       "      <td>NaN</td>\n",
       "      <td>NaN</td>\n",
       "      <td>NaN</td>\n",
       "      <td>left_only</td>\n",
       "    </tr>\n",
       "    <tr>\n",
       "      <th>1</th>\n",
       "      <td>Afghanistan</td>\n",
       "      <td>2001</td>\n",
       "      <td>16318324.0</td>\n",
       "      <td>4648139.0</td>\n",
       "      <td>21606988.0</td>\n",
       "      <td>10489238.0</td>\n",
       "      <td>11117754.0</td>\n",
       "      <td>21.61913</td>\n",
       "      <td>0.0</td>\n",
       "      <td>49.48745</td>\n",
       "      <td>0.0</td>\n",
       "      <td>27.79726</td>\n",
       "      <td>0.0</td>\n",
       "      <td>NaN</td>\n",
       "      <td>NaN</td>\n",
       "      <td>NaN</td>\n",
       "      <td>NaN</td>\n",
       "      <td>NaN</td>\n",
       "      <td>left_only</td>\n",
       "    </tr>\n",
       "    <tr>\n",
       "      <th>2</th>\n",
       "      <td>Afghanistan</td>\n",
       "      <td>2002</td>\n",
       "      <td>17086910.0</td>\n",
       "      <td>4893013.0</td>\n",
       "      <td>22600770.0</td>\n",
       "      <td>10958668.0</td>\n",
       "      <td>11642106.0</td>\n",
       "      <td>23.59988</td>\n",
       "      <td>0.0</td>\n",
       "      <td>51.90447</td>\n",
       "      <td>0.0</td>\n",
       "      <td>29.90076</td>\n",
       "      <td>0.0</td>\n",
       "      <td>-2.04</td>\n",
       "      <td>NaN</td>\n",
       "      <td>NaN</td>\n",
       "      <td>NaN</td>\n",
       "      <td>NaN</td>\n",
       "      <td>left_only</td>\n",
       "    </tr>\n",
       "    <tr>\n",
       "      <th>3</th>\n",
       "      <td>Afghanistan</td>\n",
       "      <td>2003</td>\n",
       "      <td>17909063.0</td>\n",
       "      <td>5155788.0</td>\n",
       "      <td>23680871.0</td>\n",
       "      <td>11466237.0</td>\n",
       "      <td>12214634.0</td>\n",
       "      <td>25.58063</td>\n",
       "      <td>0.0</td>\n",
       "      <td>54.32149</td>\n",
       "      <td>0.0</td>\n",
       "      <td>32.00507</td>\n",
       "      <td>0.0</td>\n",
       "      <td>-2.20</td>\n",
       "      <td>NaN</td>\n",
       "      <td>NaN</td>\n",
       "      <td>NaN</td>\n",
       "      <td>NaN</td>\n",
       "      <td>left_only</td>\n",
       "    </tr>\n",
       "    <tr>\n",
       "      <th>4</th>\n",
       "      <td>Afghanistan</td>\n",
       "      <td>2004</td>\n",
       "      <td>18692107.0</td>\n",
       "      <td>5426872.0</td>\n",
       "      <td>24726684.0</td>\n",
       "      <td>11962963.0</td>\n",
       "      <td>12763726.0</td>\n",
       "      <td>27.56138</td>\n",
       "      <td>0.0</td>\n",
       "      <td>56.73851</td>\n",
       "      <td>0.0</td>\n",
       "      <td>34.12623</td>\n",
       "      <td>0.0</td>\n",
       "      <td>-2.30</td>\n",
       "      <td>NaN</td>\n",
       "      <td>NaN</td>\n",
       "      <td>NaN</td>\n",
       "      <td>NaN</td>\n",
       "      <td>left_only</td>\n",
       "    </tr>\n",
       "  </tbody>\n",
       "</table>\n",
       "</div>"
      ],
      "text/plain": [
       "       Country  Year   Pop_rural  Pop_urban   Pop_total  Pop_female  \\\n",
       "0  Afghanistan  2000  15657474.0  4436282.0  20779953.0  10090449.0   \n",
       "1  Afghanistan  2001  16318324.0  4648139.0  21606988.0  10489238.0   \n",
       "2  Afghanistan  2002  17086910.0  4893013.0  22600770.0  10958668.0   \n",
       "3  Afghanistan  2003  17909063.0  5155788.0  23680871.0  11466237.0   \n",
       "4  Afghanistan  2004  18692107.0  5426872.0  24726684.0  11962963.0   \n",
       "\n",
       "     Pop_male  Rural basic Water Services (% Pop)  \\\n",
       "0  10689508.0                            21.61913   \n",
       "1  11117754.0                            21.61913   \n",
       "2  11642106.0                            23.59988   \n",
       "3  12214634.0                            25.58063   \n",
       "4  12763726.0                            27.56138   \n",
       "\n",
       "   Rural safe Drinking Water (% Pop)   Urban basic Water Services (% Pop)  \\\n",
       "0                                 0.0                            49.48745   \n",
       "1                                 0.0                            49.48745   \n",
       "2                                 0.0                            51.90447   \n",
       "3                                 0.0                            54.32149   \n",
       "4                                 0.0                            56.73851   \n",
       "\n",
       "   Urban safe Drinking Water (% Pop)   Total basic Water Services (% Pop)  \\\n",
       "0                                 0.0                            27.77190   \n",
       "1                                 0.0                            27.79726   \n",
       "2                                 0.0                            29.90076   \n",
       "3                                 0.0                            32.00507   \n",
       "4                                 0.0                            34.12623   \n",
       "\n",
       "   Total safe Drinking Water (% Pop)   Political_Stability  \\\n",
       "0                                 0.0                -2.44   \n",
       "1                                 0.0                  NaN   \n",
       "2                                 0.0                -2.04   \n",
       "3                                 0.0                -2.20   \n",
       "4                                 0.0                -2.30   \n",
       "\n",
       "   Female mortality rate per 100000 pop  Male mortality rate per 100000 pop  \\\n",
       "0                                   NaN                                 NaN   \n",
       "1                                   NaN                                 NaN   \n",
       "2                                   NaN                                 NaN   \n",
       "3                                   NaN                                 NaN   \n",
       "4                                   NaN                                 NaN   \n",
       "\n",
       "    Total mortality rate per 100000 pop  Total wash deaths     _merge  \n",
       "0                                   NaN                NaN  left_only  \n",
       "1                                   NaN                NaN  left_only  \n",
       "2                                   NaN                NaN  left_only  \n",
       "3                                   NaN                NaN  left_only  \n",
       "4                                   NaN                NaN  left_only  "
      ]
     },
     "execution_count": 141,
     "metadata": {},
     "output_type": "execute_result"
    }
   ],
   "source": [
    "# JOINTURE 3  Je joins le df pop_sta_water au df mortality en utilsant comme clé de jointure 'Country' \n",
    "df = pd.merge(pop_water_stabi, mortality, on=['Country', 'Year'], how='left',  indicator= True)\n",
    "df.head()"
   ]
  },
  {
   "cell_type": "code",
   "execution_count": 142,
   "id": "8979701c",
   "metadata": {},
   "outputs": [
    {
     "data": {
      "text/plain": [
       "left_only     4179\n",
       "both           183\n",
       "right_only       0\n",
       "Name: _merge, dtype: int64"
      ]
     },
     "execution_count": 142,
     "metadata": {},
     "output_type": "execute_result"
    }
   ],
   "source": [
    "# J'affiche combien d'individus ont matché \n",
    "df['_merge'].value_counts()"
   ]
  },
  {
   "cell_type": "code",
   "execution_count": 143,
   "id": "3ab0d439",
   "metadata": {},
   "outputs": [],
   "source": [
    "# Je supprime l'indicator après analyse pour ne pas qu'il me pose problème lors de la seconde jointure\n",
    "df = df.drop('_merge', axis=1)"
   ]
  },
  {
   "cell_type": "code",
   "execution_count": 144,
   "id": "461f0e6e",
   "metadata": {},
   "outputs": [],
   "source": [
    "# Je convertis 'Year' en type date\n",
    "df['Year'] = pd.to_datetime(df['Year'], format='%Y')"
   ]
  },
  {
   "cell_type": "code",
   "execution_count": 145,
   "id": "90e9def2",
   "metadata": {},
   "outputs": [
    {
     "data": {
      "text/plain": [
       "(4362, 18)"
      ]
     },
     "execution_count": 145,
     "metadata": {},
     "output_type": "execute_result"
    }
   ],
   "source": [
    "df.shape"
   ]
  },
  {
   "cell_type": "code",
   "execution_count": 146,
   "id": "e79730ab",
   "metadata": {},
   "outputs": [],
   "source": [
    "# Je sauvgarde mon df en tant que fichies csv \n",
    "df.to_csv('C:\\\\Users\\\\halim\\\\OneDrive\\\\Bureau\\\\Projet_8\\\\csv.file.nettoye8.csv', index=False)"
   ]
  },
  {
   "cell_type": "code",
   "execution_count": 147,
   "id": "c54dcea5",
   "metadata": {},
   "outputs": [],
   "source": [
    "region.to_csv('C:\\\\Users\\\\halim\\\\OneDrive\\\\Bureau\\\\Projet_8\\\\csv.reg.nettoye8.csv', index=False)"
   ]
  },
  {
   "cell_type": "code",
   "execution_count": 148,
   "id": "c7045d36",
   "metadata": {},
   "outputs": [],
   "source": [
    "# df region à joindre au df final sur tableau (jointure interne)"
   ]
  },
  {
   "cell_type": "code",
   "execution_count": null,
   "id": "e6cda586",
   "metadata": {},
   "outputs": [],
   "source": []
  }
 ],
 "metadata": {
  "kernelspec": {
   "display_name": "Python 3 (ipykernel)",
   "language": "python",
   "name": "python3"
  },
  "language_info": {
   "codemirror_mode": {
    "name": "ipython",
    "version": 3
   },
   "file_extension": ".py",
   "mimetype": "text/x-python",
   "name": "python",
   "nbconvert_exporter": "python",
   "pygments_lexer": "ipython3",
   "version": "3.9.13"
  }
 },
 "nbformat": 4,
 "nbformat_minor": 5
}
